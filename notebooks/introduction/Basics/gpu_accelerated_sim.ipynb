{
 "cells": [
  {
   "cell_type": "markdown",
   "id": "69c837a3",
   "metadata": {},
   "source": [
    "# GPU Accelerated simulation"
   ]
  },
  {
   "cell_type": "markdown",
   "id": "8d661bc6",
   "metadata": {},
   "source": [
    "As of version 1.13.0 QLEO now supports GPU accelerated simulation using CustateVec as a backend.\\\n",
    "This allow users to speed-up their simulation by a factor up to 100 for 26 qubits and more.\n",
    "\n",
    "For the user switching from a cpu to gpu simulation is as simple as setting a boolean option in the instantiation of the simulator"
   ]
  },
  {
   "cell_type": "code",
   "execution_count": null,
   "id": "402d749d",
   "metadata": {},
   "outputs": [],
   "source": [
    "from quantanium import *\n",
    "import matplotlib.pyplot as plt"
   ]
  },
  {
   "cell_type": "code",
   "execution_count": null,
   "id": "2e932648",
   "metadata": {},
   "outputs": [],
   "source": [
    "# CPU backend\n",
    "cpu_sim = Quantanium(use_gpu=False) # default of Quantanium()\n",
    "\n",
    "# GPU backend\n",
    "gpu_sim = Quantanium(use_gpu=True)"
   ]
  },
  {
   "cell_type": "markdown",
   "id": "4f2e4cfd",
   "metadata": {},
   "source": [
    "Using the gpu accelerated backend is the same as always:\n",
    "- Design a circuit\n",
    "- Use the execute mthod "
   ]
  },
  {
   "cell_type": "code",
   "execution_count": 3,
   "id": "6de1edd9",
   "metadata": {},
   "outputs": [],
   "source": [
    "def ghz(nb_qubits):\n",
    "    circuit = Circuit()\n",
    "    circuit.push(GateH(), 0)\n",
    "    circuit.push(GateCX(), 0, range(1, nb_qubits))\n",
    "    return circuit"
   ]
  },
  {
   "cell_type": "code",
   "execution_count": null,
   "id": "c7375183",
   "metadata": {},
   "outputs": [],
   "source": [
    "nb_qubits=26\n",
    "circuit = ghz(nb_qubits)\n",
    "gpu_sim.execute(circuit)"
   ]
  },
  {
   "cell_type": "markdown",
   "id": "eb6c2e30",
   "metadata": {},
   "source": [
    "Let's compare the CPU backend to the GPU backend runtime\n",
    "\n",
    "For this we are going to run a ghz circuit from 5 to 27 qubits for both backends and plots the runtime"
   ]
  },
  {
   "cell_type": "markdown",
   "id": "5ec32a62",
   "metadata": {},
   "source": [
    "The following block of code loops over the qubits number to run the simulations "
   ]
  },
  {
   "cell_type": "code",
   "execution_count": null,
   "id": "6bdfd6e3",
   "metadata": {},
   "outputs": [],
   "source": [
    "cpu_runtime = []\n",
    "gpu_runtime = []\n",
    "\n",
    "q_range = (5, 27)\n",
    "\n",
    "for i in range(*q_range):\n",
    "    circuit = ghz(i)\n",
    "\n",
    "    cpu_t = cpu_sim.execute(circuit)\n",
    "    gpu_t = gpu_sim.execute(circuit)\n",
    "\n",
    "    cpu_runtime.append(cpu_t)\n",
    "    gpu_runtime.append(gpu_t)\n"
   ]
  },
  {
   "cell_type": "markdown",
   "id": "8c249edc",
   "metadata": {},
   "source": [
    "Next we plot the results"
   ]
  },
  {
   "cell_type": "code",
   "execution_count": null,
   "id": "aaed6adc",
   "metadata": {},
   "outputs": [],
   "source": [
    "title = \"QLEO on CPU vs GPU runtime for GHZ\"\n",
    "y_axis = \"Runtime (s)\"\n",
    "x_axis = \"qubits\"\n",
    "\n",
    "fig = plt.subplot()\n",
    "fig.plot(range(*q_range), cpu_runtime, gpu_runtime)\n",
    "fig.set_title(title)\n",
    "fig.set_ylabel(y_axis)\n",
    "fig.set_xlabel(x_axis)"
   ]
  }
 ],
 "metadata": {
  "kernelspec": {
   "display_name": "base",
   "language": "python",
   "name": "python3"
  },
  "language_info": {
   "codemirror_mode": {
    "name": "ipython",
    "version": 3
   },
   "file_extension": ".py",
   "mimetype": "text/x-python",
   "name": "python",
   "nbconvert_exporter": "python",
   "pygments_lexer": "ipython3",
   "version": "3.12.8"
  }
 },
 "nbformat": 4,
 "nbformat_minor": 5
}
