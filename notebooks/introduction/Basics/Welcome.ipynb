{
 "cells": [
  {
   "cell_type": "markdown",
   "id": "d3cb245a-fd80-4b29-a6e6-6356397eeca3",
   "metadata": {},
   "source": [
    "# Quantanium (local StateVector simulator)"
   ]
  },
  {
   "cell_type": "markdown",
   "id": "77207deb-07cd-488b-9758-df824dd262fa",
   "metadata": {},
   "source": [
    "## Quickstart"
   ]
  },
  {
   "cell_type": "markdown",
   "id": "6bba031b-5acd-4fb9-8e69-af364abd5dff",
   "metadata": {},
   "source": [
    "In this tutorial, we will walk you through the fundamental procedures for simulating a quantum circuit. Throughout the tutorial, we will provide links to detailed documentation and examples that can provide a deeper understanding of each topic."
   ]
  },
  {
   "cell_type": "markdown",
   "id": "7d649658-e89a-4601-980c-624ee2e55f1b",
   "metadata": {},
   "source": [
    "### Load the Quantanium Framework"
   ]
  },
  {
   "cell_type": "markdown",
   "id": "39ac13a8-5a92-474f-bed3-5b706edaf301",
   "metadata": {},
   "source": [
    "In order to use the simulator, we simply need to import the `quantanium` Python module within youre workspace like this:"
   ]
  },
  {
   "cell_type": "code",
   "execution_count": null,
   "id": "50e14ea6-34f0-4574-afb6-cc9f575d3f62",
   "metadata": {},
   "outputs": [],
   "source": [
    "from quantanium import *"
   ]
  },
  {
   "cell_type": "markdown",
   "id": "952f3a02-3a2a-49c6-ad87-8b52ae4d4520",
   "metadata": {},
   "source": [
    "### Using Quantanium"
   ]
  },
  {
   "cell_type": "markdown",
   "id": "90eafe6c-6313-4b84-aa6e-e1b75e1e6e45",
   "metadata": {},
   "source": [
    "Quantanium is a lightning fast state vector engine written in C++. The simulator is available locally, and it is accessible from the user library via"
   ]
  },
  {
   "cell_type": "code",
   "execution_count": null,
   "id": "5c4a6ec8-34d1-40e4-891b-25415702f9cd",
   "metadata": {},
   "outputs": [],
   "source": [
    "sim = Quantanium()"
   ]
  },
  {
   "cell_type": "markdown",
   "id": "09b2651a-543c-4b5d-b08d-eb80067068a4",
   "metadata": {},
   "source": [
    "The simulator can simulate quantum circuits built with the `sim.execute(circuit)` function or, alternatively, OpenQASM files with the `sim.execute(\"filename.qasm\")` function."
   ]
  },
  {
   "cell_type": "markdown",
   "id": "64352605-aedb-4687-a21d-54d75160dbbb",
   "metadata": {},
   "source": [
    "## Example: Simulate a GHZ state preparation circuit"
   ]
  },
  {
   "cell_type": "markdown",
   "id": "027cc217-ec41-4c9f-8bc9-0cef7cfb34dc",
   "metadata": {},
   "source": [
    "### Construct basic circuit"
   ]
  },
  {
   "cell_type": "markdown",
   "id": "11e14619-da74-4438-8d3e-fbf5a304ae3d",
   "metadata": {},
   "source": [
    "A circuit is a sequence of quantum operations (gates, measurements, etc...) that act on a set of qubits and potentially store information in a classical or *z* register. The classical register is a boolean vector to store the results of classical measurements, and the *z* register is a complex vector to store the result of mathematical calculations like expectation values.\n",
    "\n",
    "Quantanium's interface is similar to other software, but there are some important differences:\n",
    "\n",
    "* There are no hardcoded quantum registers. Qubits are simply indicated by an integer index starting at 0 (Python convention). The same for classical and *z* registers.\n",
    "* A `Circuit` object doesn't have a fixed number of qubits. The number of qubits in a circuit is taken from looking at the qubits the gates are applied to. It is the maximum integer used in a circuit. The same for the number of classical bits or the `z` register."
   ]
  },
  {
   "cell_type": "markdown",
   "id": "94f5ccc0-6140-4a14-9bf0-a1f3d37d80d4",
   "metadata": {},
   "source": [
    "To construct a GHZ circuit, we start by defining an empty `Circuit()`"
   ]
  },
  {
   "cell_type": "code",
   "execution_count": 3,
   "id": "27fc1cae-98a0-46a2-9f9e-eedeb8445b4b",
   "metadata": {},
   "outputs": [
    {
     "data": {
      "text/plain": [
       "empty circuit"
      ]
     },
     "execution_count": 3,
     "metadata": {},
     "output_type": "execute_result"
    }
   ],
   "source": [
    "circuit = Circuit()\n",
    "circuit"
   ]
  },
  {
   "cell_type": "markdown",
   "id": "063feefa-216c-421f-a934-f1aa9ce40c9f",
   "metadata": {},
   "source": [
    "The most important tool to build circuits is the `push()` function. It is used like this: `circuit.push(opeeration, targets...)`. It accepts a circuit, a single quantum operation, and a series of targets, one for every qubit or bit the operation supports. "
   ]
  },
  {
   "cell_type": "markdown",
   "id": "432acf2e-022e-4a27-8128-ac7be2c3a0cf",
   "metadata": {},
   "source": [
    "We apply a `GateH` on the first qubits as "
   ]
  },
  {
   "cell_type": "code",
   "execution_count": 4,
   "id": "661afe23-6bce-45f5-aa04-b98dac4f72cc",
   "metadata": {},
   "outputs": [
    {
     "data": {
      "text/plain": [
       "1-qubit circuit with 1 instructions:\n",
       "└── H @ q[0]"
      ]
     },
     "execution_count": 4,
     "metadata": {},
     "output_type": "execute_result"
    }
   ],
   "source": [
    "circuit.push(GateH(), 0)"
   ]
  },
  {
   "cell_type": "markdown",
   "id": "8f2a8ceb-a7bb-4f5b-b79a-ddba8529c354",
   "metadata": {},
   "source": [
    "The text representation `H @ q[0]` informs us that there is an instruction which applies the Hadamard gate to the qubit with index `0`. Note that qubits start by default in the state 0."
   ]
  },
  {
   "cell_type": "markdown",
   "id": "f6a2ee37-9ae3-4bc5-9f61-737f58cbc25e",
   "metadata": {},
   "source": [
    "Multiple gates can be added at once through the same `push()` syntax using iterables. To prepare a 5-qubits GHZ state, we add 5 `CX` gates or control-$X$ gates between the qubit 0 and all the qubits from `1` to `4`."
   ]
  },
  {
   "cell_type": "code",
   "execution_count": 5,
   "id": "e8a0bb45-8742-46b1-94c6-6c992ca1f04f",
   "metadata": {},
   "outputs": [
    {
     "data": {
      "text/plain": [
       "5-qubit circuit with 5 instructions:\n",
       "├── H @ q[0]\n",
       "├── CX @ q[0], q[1]\n",
       "├── CX @ q[0], q[2]\n",
       "├── CX @ q[0], q[3]\n",
       "└── CX @ q[0], q[4]"
      ]
     },
     "execution_count": 5,
     "metadata": {},
     "output_type": "execute_result"
    }
   ],
   "source": [
    "circuit.push(GateCX(), 0, range(1, 5))"
   ]
  },
  {
   "cell_type": "markdown",
   "id": "9b02df7f-786e-4ab2-a3f4-361f962561ea",
   "metadata": {},
   "source": [
    "### Measure, add noise, and extract information\n"
   ]
  },
  {
   "cell_type": "markdown",
   "id": "55408405-e4d2-4606-aa7d-2640c8ed8f41",
   "metadata": {},
   "source": [
    "We can extract information about the state of the system (without affecting the state) at any point in the circuit.\n",
    "For example, we can compute the expectation value of $\\ket{11}\\bra{11}$ of qubits 0 and 3, and store it in the first *z* register as:"
   ]
  },
  {
   "cell_type": "code",
   "execution_count": 6,
   "id": "54a1ff9c-a1de-494f-94fd-948b1666ed8a",
   "metadata": {},
   "outputs": [
    {
     "data": {
      "text/plain": [
       "5-qubit circuit with 6 instructions:\n",
       "├── H @ q[0]\n",
       "├── CX @ q[0], q[1]\n",
       "├── CX @ q[0], q[2]\n",
       "├── CX @ q[0], q[3]\n",
       "├── CX @ q[0], q[4]\n",
       "└── ⟨P₁₁(1)⟩ @ q[0,4], z[0]"
      ]
     },
     "execution_count": 6,
     "metadata": {},
     "output_type": "execute_result"
    }
   ],
   "source": [
    "circuit.push(ExpectationValue(Projector11()), 0, 4, 0)"
   ]
  },
  {
   "cell_type": "markdown",
   "id": "d3c73771-f689-424a-bcec-dd53a880c175",
   "metadata": {},
   "source": [
    "We can measure the qubits and add other non-unitary operations at any point in the circuit, for example:"
   ]
  },
  {
   "cell_type": "code",
   "execution_count": 7,
   "id": "84ddd979-9373-4cde-97cb-12773a56c39a",
   "metadata": {},
   "outputs": [
    {
     "data": {
      "text/plain": [
       "5-qubit circuit with 11 instructions:\n",
       "├── H @ q[0]\n",
       "├── CX @ q[0], q[1]\n",
       "├── CX @ q[0], q[2]\n",
       "├── CX @ q[0], q[3]\n",
       "├── CX @ q[0], q[4]\n",
       "├── ⟨P₁₁(1)⟩ @ q[0,4], z[0]\n",
       "├── M @ q[0], c[0]\n",
       "├── M @ q[1], c[1]\n",
       "├── M @ q[2], c[2]\n",
       "├── M @ q[3], c[3]\n",
       "└── M @ q[4], c[4]"
      ]
     },
     "execution_count": 7,
     "metadata": {},
     "output_type": "execute_result"
    }
   ],
   "source": [
    "circuit.push(Measure(), range(0, 5), range(0, 5))"
   ]
  },
  {
   "cell_type": "markdown",
   "id": "c57b09b1-a91c-4a34-b095-3b6a6d855d20",
   "metadata": {},
   "source": [
    "Here, we measure qubits 0 to 4 and store the result in classical register 0 to 4. In general, the ordering of targets is always like `circuit.push(op, quantum_targets..., classical_targets..., z_targets...)`."
   ]
  },
  {
   "cell_type": "markdown",
   "id": "cfa96311-0633-44cf-866a-4f215a0e5d9c",
   "metadata": {},
   "source": [
    "**WARNING**: Classical and z registers can be overwritten. If you do `circuit.push(Measure(), 0, 0)` followed by `circuit.push(Measure(), 1, 0)`, the second measurement will overwrite the first one since it will be stored on the same classical register 0. To avoid this in a circuit with many measurements you can, for example, keep track of the index of the last used register."
   ]
  },
  {
   "cell_type": "markdown",
   "id": "5f0e6007-6701-4690-b100-8c9dfb576b06",
   "metadata": {},
   "source": [
    "To simulate imperfect quantum computers, we can add noise to the circuit. Noise operations can be added just like any other operations using `push()`. However, noise can also be added after the circuit has been built to all gates of a certain type using `add_noise()`. For example:"
   ]
  },
  {
   "cell_type": "code",
   "execution_count": 8,
   "id": "0f1ae0e7-ff79-475f-93cf-6c42896cab48",
   "metadata": {},
   "outputs": [
    {
     "data": {
      "text/plain": [
       "5-qubit circuit with 12 instructions:\n",
       "├── H @ q[0]\n",
       "├── AmplitudeDamping(0.01) @ q[0]\n",
       "├── CX @ q[0], q[1]\n",
       "├── CX @ q[0], q[2]\n",
       "├── CX @ q[0], q[3]\n",
       "├── CX @ q[0], q[4]\n",
       "├── ⟨P₁₁(1)⟩ @ q[0,4], z[0]\n",
       "├── M @ q[0], c[0]\n",
       "├── M @ q[1], c[1]\n",
       "├── M @ q[2], c[2]\n",
       "├── M @ q[3], c[3]\n",
       "└── M @ q[4], c[4]"
      ]
     },
     "execution_count": 8,
     "metadata": {},
     "output_type": "execute_result"
    }
   ],
   "source": [
    "circuit.add_noise(GateH(), AmplitudeDamping(0.01))"
   ]
  },
  {
   "cell_type": "code",
   "execution_count": 9,
   "id": "fa0df73d-8ce2-47e8-bdcd-97f51339cd0b",
   "metadata": {},
   "outputs": [
    {
     "data": {
      "text/plain": [
       "5-qubit circuit with 16 instructions:\n",
       "├── H @ q[0]\n",
       "├── AmplitudeDamping(0.01) @ q[0]\n",
       "├── CX @ q[0], q[1]\n",
       "├── Depolarizing(0.1) @ q[0,1]\n",
       "├── CX @ q[0], q[2]\n",
       "├── Depolarizing(0.1) @ q[0,2]\n",
       "├── CX @ q[0], q[3]\n",
       "├── Depolarizing(0.1) @ q[0,3]\n",
       "├── CX @ q[0], q[4]\n",
       "├── Depolarizing(0.1) @ q[0,4]\n",
       "├── ⟨P₁₁(1)⟩ @ q[0,4], z[0]\n",
       "├── M @ q[0], c[0]\n",
       "├── M @ q[1], c[1]\n",
       "├── M @ q[2], c[2]\n",
       "├── M @ q[3], c[3]\n",
       "└── M @ q[4], c[4]"
      ]
     },
     "execution_count": 9,
     "metadata": {},
     "output_type": "execute_result"
    }
   ],
   "source": [
    "circuit.add_noise(GateCX(), Depolarizing2(0.1), parallel=True)"
   ]
  },
  {
   "cell_type": "code",
   "execution_count": 10,
   "id": "9141383e-69da-4d0b-a2e8-7048e8bb6e3f",
   "metadata": {},
   "outputs": [
    {
     "data": {
      "text/plain": [
       "5-qubit circuit with 21 instructions:\n",
       "├── H @ q[0]\n",
       "├── AmplitudeDamping(0.01) @ q[0]\n",
       "├── CX @ q[0], q[1]\n",
       "├── Depolarizing(0.1) @ q[0,1]\n",
       "├── CX @ q[0], q[2]\n",
       "├── Depolarizing(0.1) @ q[0,2]\n",
       "├── CX @ q[0], q[3]\n",
       "├── Depolarizing(0.1) @ q[0,3]\n",
       "├── CX @ q[0], q[4]\n",
       "├── Depolarizing(0.1) @ q[0,4]\n",
       "├── ⟨P₁₁(1)⟩ @ q[0,4], z[0]\n",
       "├── PauliX(0.05) @ q[0]\n",
       "├── PauliX(0.05) @ q[0]\n",
       "├── PauliX(0.05) @ q[0]\n",
       "├── PauliX(0.05) @ q[0]\n",
       "├── PauliX(0.05) @ q[0]\n",
       "├── M @ q[0], c[0]\n",
       "├── M @ q[1], c[1]\n",
       "├── M @ q[2], c[2]\n",
       "⋮   ⋮\n",
       "└── M @ q[4], c[4]"
      ]
     },
     "execution_count": 10,
     "metadata": {},
     "output_type": "execute_result"
    }
   ],
   "source": [
    "circuit.add_noise(Measure(), PauliX(0.05), before=True, parallel=True)"
   ]
  },
  {
   "cell_type": "markdown",
   "id": "398a00bc-df05-48fd-b39d-107599dd49f7",
   "metadata": {},
   "source": [
    "The number of qubits, classical bits, and complex z-values of a circuit can be obtained from:"
   ]
  },
  {
   "cell_type": "code",
   "execution_count": 11,
   "id": "94f03ecc-cf75-465b-918b-b6ed8057751d",
   "metadata": {},
   "outputs": [
    {
     "data": {
      "text/plain": [
       "(5, 5, 1)"
      ]
     },
     "execution_count": 11,
     "metadata": {},
     "output_type": "execute_result"
    }
   ],
   "source": [
    "circuit.num_qubits(), circuit.num_bits(), circuit.num_zvars()"
   ]
  },
  {
   "cell_type": "markdown",
   "id": "2e6d2d21-f6f6-43d1-8d32-bab2c35d59fe",
   "metadata": {},
   "source": [
    "A circuit behaves in many ways like a vector (of instructions, i.e. operations + targets). You can get the length as `len(circuit)`, access elements as `circuit[2]`, insert elements with `insert()`, append other circuits with `append()` etc. You can also visualize circuits with `draw()`."
   ]
  },
  {
   "cell_type": "code",
   "execution_count": 12,
   "id": "7249d8fe-1de2-4372-8bf2-1727de7403ac",
   "metadata": {},
   "outputs": [
    {
     "name": "stdout",
     "output_type": "stream",
     "text": [
      "        ┌─┐┌──────────────────────┐   ┌───────────────────┐                     \n",
      " q[0]: ╶┤H├┤AmplitudeDamping(0.01)├─●─┤0                  ├───●────────────────╴\n",
      "        └─┘└──────────────────────┘┌┴┐│  Depolarizing(0.1)│   │                 \n",
      " q[1]: ╶───────────────────────────┤X├┤1                  ├───┼────────────────╴\n",
      "                                   └─┘└───────────────────┘  ┌┴┐                \n",
      " q[2]: ╶─────────────────────────────────────────────────────┤X├───────────────╴\n",
      "                                                             └─┘                \n",
      " q[3]: ╶───────────────────────────────────────────────────────────────────────╴\n",
      "                                                                                \n",
      " q[4]: ╶───────────────────────────────────────────────────────────────────────╴\n",
      "                                                                                \n",
      "                                                                                \n",
      "                                                                                \n",
      " c:    ═════════════════════════════════════════════════════════════════════════\n",
      "                                                                                \n",
      " z:    ═════════════════════════════════════════════════════════════════════════\n",
      "...\n",
      "        ┌───────────────────┐     ┌───────────────────┐                         \n",
      " q[0]: ╶┤0                  ├───●─┤0                  ├───●────────────────────╴\n",
      "        │                   │   │ │                   │   │                     \n",
      " q[1]: ╶┤  Depolarizing(0.1)├───┼─┤                   ├───┼────────────────────╴\n",
      "        │                   │   │ │  Depolarizing(0.1)│   │                     \n",
      " q[2]: ╶┤1                  ├───┼─┤                   ├───┼────────────────────╴\n",
      "        └───────────────────┘  ┌┴┐│                   │   │                     \n",
      " q[3]: ╶───────────────────────┤X├┤1                  ├───┼────────────────────╴\n",
      "                               └─┘└───────────────────┘  ┌┴┐                    \n",
      " q[4]: ╶─────────────────────────────────────────────────┤X├───────────────────╴\n",
      "                                                         └─┘                    \n",
      "                                                                                \n",
      "                                                                                \n",
      " c:    ═════════════════════════════════════════════════════════════════════════\n",
      "                                                                                \n",
      " z:    ═════════════════════════════════════════════════════════════════════════\n",
      "...\n",
      "        ┌───────────────────┐  ┌──────────────┐┌────────────┐┌────────────┐     \n",
      " q[0]: ╶┤0                  ├──┤0             ├┤PauliX(0.05)├┤PauliX(0.05)├────╴\n",
      "        │                   │  │              │└────────────┘└────────────┘     \n",
      " q[1]: ╶┤                   ├──┤              ├────────────────────────────────╴\n",
      "        │                   │  │              │                                 \n",
      " q[2]: ╶┤  Depolarizing(0.1)├──┤   ⟨P₁₁(1)⟩   ├────────────────────────────────╴\n",
      "        │                   │  │              │                                 \n",
      " q[3]: ╶┤                   ├──┤              ├────────────────────────────────╴\n",
      "        │                   │  │              │                                 \n",
      " q[4]: ╶┤1                  ├──┤1             ├────────────────────────────────╴\n",
      "        └───────────────────┘  └───────╥──────┘                                 \n",
      "                                       ║                                        \n",
      "                                       ║                                        \n",
      " c:    ════════════════════════════════╬════════════════════════════════════════\n",
      "                                       ║                                        \n",
      " z:    ════════════════════════════════╩════════════════════════════════════════\n",
      "                                       0                                        \n",
      "...\n",
      "        ┌────────────┐┌────────────┐┌────────────┐┌──────┐                      \n",
      " q[0]: ╶┤PauliX(0.05)├┤PauliX(0.05)├┤PauliX(0.05)├┤   M  ├─────────────────────╴\n",
      "        └────────────┘└────────────┘└────────────┘└───╥──┘┌──────┐              \n",
      " q[1]: ╶──────────────────────────────────────────────╫───┤   M  ├─────────────╴\n",
      "                                                      ║   └───╥──┘┌──────┐      \n",
      " q[2]: ╶──────────────────────────────────────────────╫───────╫───┤   M  ├─────╴\n",
      "                                                      ║       ║   └───╥──┘      \n",
      " q[3]: ╶──────────────────────────────────────────────╫───────╫───────╫────────╴\n",
      "                                                      ║       ║       ║         \n",
      " q[4]: ╶──────────────────────────────────────────────╫───────╫───────╫────────╴\n",
      "                                                      ║       ║       ║         \n",
      "                                                      ║       ║       ║         \n",
      "                                                      ║       ║       ║         \n",
      " c:    ═══════════════════════════════════════════════╩═══════╩═══════╩═════════\n",
      "                                                      0       1       2         \n",
      " z:    ═════════════════════════════════════════════════════════════════════════\n",
      "...\n",
      "                                                                                \n",
      " q[0]: ╶───────────────────────────────────────────────────────────────────────╴\n",
      "                                                                                \n",
      " q[1]: ╶───────────────────────────────────────────────────────────────────────╴\n",
      "                                                                                \n",
      " q[2]: ╶───────────────────────────────────────────────────────────────────────╴\n",
      "        ┌──────┐                                                                \n",
      " q[3]: ╶┤   M  ├───────────────────────────────────────────────────────────────╴\n",
      "        └───╥──┘┌──────┐                                                        \n",
      " q[4]: ╶────╫───┤   M  ├───────────────────────────────────────────────────────╴\n",
      "            ║   └───╥──┘                                                        \n",
      "            ║       ║                                                           \n",
      "            ║       ║                                                           \n",
      " c:    ═════╩═══════╩═══════════════════════════════════════════════════════════\n",
      "            3       4                                                           \n",
      " z:    ═════════════════════════════════════════════════════════════════════════\n"
     ]
    }
   ],
   "source": [
    "circuit.draw()"
   ]
  },
  {
   "cell_type": "markdown",
   "id": "46d02f66-3967-44f5-96de-f538ce6ec768",
   "metadata": {},
   "source": [
    "### Execute Circuit"
   ]
  },
  {
   "cell_type": "markdown",
   "id": "a91438ed-20c2-4363-9510-24729ceae3e4",
   "metadata": {},
   "source": [
    "Executing a circuit with quantanium:"
   ]
  },
  {
   "cell_type": "code",
   "execution_count": 13,
   "id": "7f91760b-61fa-4ce4-a9f2-914e1e03f556",
   "metadata": {},
   "outputs": [
    {
     "data": {
      "text/html": [
       "<table><tbody><tr><td colspan=2 style=\"text-align:center;\"><strong>QCSResults</strong></td></tr><tr><td colspan=2><hr></td></tr><tr><td colspan=2 style=\"text-align:center;\"><strong>Simulator</strong></td></tr><tr><td colspan=2 style=\"text-align:center;\">QLEO 0.1.22</td></tr><tr><td colspan=2><hr></td></tr><tr><td colspan=2 style=\"text-align:center;\"><strong>Timings</strong></td></tr><tr><td style=\"text-align:left;\">sample time</td><td>0.0s</td></tr><tr><td style=\"text-align:left;\">apply time</td><td>0.616514992s</td></tr><tr><td colspan=2><hr></td></tr><tr><td colspan=2></td></tr><tr><td colspan=2 style=\"text-align:center;\"><strong>Fidelity estimate</strong></td></tr><tr><td style=\"text-align:left;\">Mean</td><td>1.0</td></tr><tr><td style=\"text-align:left;\">Median</td><td>1.0</td></tr><tr><td style=\"text-align:left;\">Standard Deviation</td><td>0.0</td></tr><tr><td colspan=2><hr></td></tr><tr><td colspan=2></td></tr><tr><td colspan=2 style=\"text-align:center;\"><strong>Average multiqubit error estimate</strong></td></tr><tr><td style=\"text-align:left;\">Mean</td><td>0.0</td></tr><tr><td style=\"text-align:left;\">Median</td><td>0.0</td></tr><tr><td style=\"text-align:left;\">Standard Deviation</td><td>0.0</td></tr><tr><td colspan=2><hr></td></tr><tr><td colspan=2></td></tr><tr><td colspan=2 style=\"text-align:center;\"><strong>Statistics</strong></td></tr><tr><td style=\"text-align:left;\">Number of executions</td><td>1000</td></tr><tr><td style=\"text-align:left;\">Number of samples</td><td>1000</td></tr><tr><td style=\"text-align:left;\">Number of amplitudes</td><td>0</td></tr><tr><td colspan=2><hr></td></tr><tr><td colspan=2></td></tr><tr><td colspan=2 style=\"text-align:center;\"><strong>Samples</strong></td></tr><tr><td style=\"text-align:left;font-family: monospace;\">0x0</td><td style=\"text-align:left;font-family: monospace;\">00000</td><td style=\"font-family: monospace;\">305</td></tr><tr><td style=\"text-align:left;font-family: monospace;\">0x1f</td><td style=\"text-align:left;font-family: monospace;\">11111</td><td style=\"font-family: monospace;\">290</td></tr><tr><td style=\"text-align:left;font-family: monospace;\">0x10</td><td style=\"text-align:left;font-family: monospace;\">10000</td><td style=\"font-family: monospace;\">82</td></tr><tr><td style=\"text-align:left;font-family: monospace;\">0xf</td><td style=\"text-align:left;font-family: monospace;\">01111</td><td style=\"font-family: monospace;\">74</td></tr><tr><td style=\"text-align:left;font-family: monospace;\">0x8</td><td style=\"text-align:left;font-family: monospace;\">01000</td><td style=\"font-family: monospace;\">31</td></tr><tr><td style=\"text-align:left;font-family: monospace;\">0x17</td><td style=\"text-align:left;font-family: monospace;\">10111</td><td style=\"font-family: monospace;\">29</td></tr><tr><td style=\"text-align:left;font-family: monospace;\">0xe</td><td style=\"text-align:left;font-family: monospace;\">01110</td><td style=\"font-family: monospace;\">26</td></tr><tr><td style=\"text-align:left;font-family: monospace;\">0x11</td><td style=\"text-align:left;font-family: monospace;\">10001</td><td style=\"font-family: monospace;\">20</td></tr><tr><td style=\"text-align:left;font-family: monospace;\">0x13</td><td style=\"text-align:left;font-family: monospace;\">10011</td><td style=\"font-family: monospace;\">17</td></tr><tr><td style=\"text-align:left;font-family: monospace;\">0xc</td><td style=\"text-align:left;font-family: monospace;\">01100</td><td style=\"font-family: monospace;\">17</td></tr><tr><td colspan=2><hr></td></tr><tr><td colspan=2></td></tr><tr><td colspan=2 style=\"text-align:center;\"><strong>Z States</strong></td></tr><tr><td style=\"text-align:left;font-family: monospace;\">[0j]</td><td style=\"text-align:left;font-family: monospace;\">61</td></tr><tr><td style=\"text-align:left;font-family: monospace;\">[(0.4974874371859298+0j)]</td><td style=\"text-align:left;font-family: monospace;\">777</td></tr><tr><td style=\"text-align:left;font-family: monospace;\">[(0.5025125628140706+0j)]</td><td style=\"text-align:left;font-family: monospace;\">162</td></tr><tr><td colspan=2><hr></td></tr></tbody></table>"
      ],
      "text/plain": [
       "QCSResults:\n",
       "├── simulator: QLEO 0.1.22\n",
       "├── timings:\n",
       "│    └── apply time: 0.616514992s\n",
       "├── fidelity estimate:\n",
       "│    ├── min, max: 1, 1\n",
       "│    ├── mean: 1\n",
       "│    ├── median: 1\n",
       "│    └── std: 0\n",
       "├── average multi-qubit gate error estimate:\n",
       "│    ├── min, max: 0, 0\n",
       "│    ├── mean: 0\n",
       "│    ├── median: 0\n",
       "│    └── std: 0\n",
       "├── most sampled:\n",
       "│    ├── bs\"00000\" => 305\n",
       "│    ├── bs\"11111\" => 290\n",
       "│    ├── bs\"10000\" => 82\n",
       "│    ├── bs\"01111\" => 74\n",
       "│    └── bs\"01000\" => 31\n",
       "├── zreg (most sampled):\n",
       "│    ├── [0j] => 61\n",
       "│    ├── [(0.4974874371859298+0j)] => 777\n",
       "│    └── [(0.5025125628140706+0j)] => 162\n",
       "├── 1000 executions\n",
       "├── 0 amplitudes\n",
       "└── 1000 samples"
      ]
     },
     "execution_count": 13,
     "metadata": {},
     "output_type": "execute_result"
    }
   ],
   "source": [
    "res = sim.execute(circuit)\n",
    "res"
   ]
  },
  {
   "cell_type": "markdown",
   "id": "7f5bb3f9-429c-4ea9-9ce6-465616858f66",
   "metadata": {},
   "source": [
    "This will execute a simulation of the given circuit with default parameters. Check out the documentation of [`execute()`](https://docs.qperfect.io/mimiqcircuits-python/apidocs/mimiqcircuits.html#mimiqcircuits.MimiqConnection.execute) function for details."
   ]
  },
  {
   "cell_type": "markdown",
   "id": "f0d8bd31-157f-479e-a3d3-b5bb4da86a99",
   "metadata": {},
   "source": [
    "The return value of the `execute` function is a `QCSResults` type."
   ]
  },
  {
   "cell_type": "markdown",
   "id": "a0210335-1345-4ebf-a77f-15ccdde81c78",
   "metadata": {},
   "source": [
    "To make a histogram out of the retrieved samples, it suffices to execute"
   ]
  },
  {
   "cell_type": "code",
   "execution_count": 14,
   "id": "ceda23f3-37cd-47d9-9555-872f8f81ce12",
   "metadata": {},
   "outputs": [
    {
     "data": {
      "text/plain": [
       "{frozenbitarray('00101'): 1,\n",
       " frozenbitarray('00000'): 305,\n",
       " frozenbitarray('00001'): 16,\n",
       " frozenbitarray('11111'): 290,\n",
       " frozenbitarray('01000'): 31,\n",
       " frozenbitarray('10000'): 82,\n",
       " frozenbitarray('00100'): 14,\n",
       " frozenbitarray('00010'): 14,\n",
       " frozenbitarray('01110'): 26,\n",
       " frozenbitarray('10111'): 29,\n",
       " frozenbitarray('01111'): 74,\n",
       " frozenbitarray('00111'): 3,\n",
       " frozenbitarray('10001'): 20,\n",
       " frozenbitarray('10011'): 17,\n",
       " frozenbitarray('11101'): 9,\n",
       " frozenbitarray('11110'): 11,\n",
       " frozenbitarray('01100'): 17,\n",
       " frozenbitarray('11011'): 10,\n",
       " frozenbitarray('01101'): 3,\n",
       " frozenbitarray('10110'): 4,\n",
       " frozenbitarray('10101'): 2,\n",
       " frozenbitarray('00011'): 6,\n",
       " frozenbitarray('11000'): 7,\n",
       " frozenbitarray('01011'): 1,\n",
       " frozenbitarray('01010'): 3,\n",
       " frozenbitarray('11010'): 1,\n",
       " frozenbitarray('10010'): 1,\n",
       " frozenbitarray('01001'): 2,\n",
       " frozenbitarray('11100'): 1}"
      ]
     },
     "execution_count": 14,
     "metadata": {},
     "output_type": "execute_result"
    }
   ],
   "source": [
    "res.histogram()"
   ]
  },
  {
   "cell_type": "markdown",
   "id": "c32b4b08-6755-4e2c-8cac-a822e6d1b1e3",
   "metadata": {},
   "source": [
    "### Visualization"
   ]
  },
  {
   "cell_type": "markdown",
   "id": "2afb663b-0ade-4489-ba98-22077298c49e",
   "metadata": {},
   "source": [
    "To plot the results use the following:"
   ]
  },
  {
   "cell_type": "code",
   "execution_count": null,
   "id": "c03c5caf-1585-4a19-bbf2-b7af25efee1f",
   "metadata": {},
   "outputs": [],
   "source": [
    "from quantanium.visualization import plothistogram"
   ]
  },
  {
   "cell_type": "code",
   "execution_count": 18,
   "id": "c88ac273-c6f1-417d-87ad-bc9ff26b49ee",
   "metadata": {},
   "outputs": [
    {
     "data": {
      "image/png": "[encoded data removed]",
      "text/plain": [
       "<Figure size 960x720 with 1 Axes>"
      ]
     },
     "metadata": {},
     "output_type": "display_data"
    }
   ],
   "source": [
    "plothistogram(res);"
   ]
  },
  {
   "cell_type": "markdown",
   "id": "805a5ea4-9095-40a5-b51c-27fa94950bac",
   "metadata": {},
   "source": [
    "### OpenQASM"
   ]
  },
  {
   "cell_type": "markdown",
   "id": "8625b5e8-70e9-431e-bf3f-c852f1f1bcc7",
   "metadata": {},
   "source": [
    "OpenQASM files, defining quantum algorithms, can be exececuted with Quantanium in the same way native circuit can, simply use `execute()` and provide the path of the file to upload."
   ]
  },
  {
   "cell_type": "code",
   "execution_count": 19,
   "id": "072805b4-d397-4207-a1cb-39e745931444",
   "metadata": {},
   "outputs": [
    {
     "data": {
      "text/html": [
       "<table><tbody><tr><td colspan=2 style=\"text-align:center;\"><strong>QCSResults</strong></td></tr><tr><td colspan=2><hr></td></tr><tr><td colspan=2 style=\"text-align:center;\"><strong>Simulator</strong></td></tr><tr><td colspan=2 style=\"text-align:center;\">QLEO 0.1.22</td></tr><tr><td colspan=2><hr></td></tr><tr><td colspan=2 style=\"text-align:center;\"><strong>Timings</strong></td></tr><tr><td style=\"text-align:left;\">sample time</td><td>0.00010581s</td></tr><tr><td style=\"text-align:left;\">apply time</td><td>0.000108185s</td></tr><tr><td colspan=2><hr></td></tr><tr><td colspan=2></td></tr><tr><td colspan=2 style=\"text-align:center;\"><strong>Fidelity estimate</strong></td></tr><tr><td style=\"text-align:left;\">Single run value</td><td>1.0</td></tr><tr><td colspan=2><hr></td></tr><tr><td colspan=2></td></tr><tr><td colspan=2 style=\"text-align:center;\"><strong>Average multiqubit error estimate</strong></td></tr><tr><td style=\"text-align:left;\">Single run value</td><td>0.0</td></tr><tr><td colspan=2><hr></td></tr><tr><td colspan=2></td></tr><tr><td colspan=2 style=\"text-align:center;\"><strong>Statistics</strong></td></tr><tr><td style=\"text-align:left;\">Number of executions</td><td>1</td></tr><tr><td style=\"text-align:left;\">Number of samples</td><td>1000</td></tr><tr><td style=\"text-align:left;\">Number of amplitudes</td><td>0</td></tr><tr><td colspan=2><hr></td></tr><tr><td colspan=2></td></tr><tr><td colspan=2 style=\"text-align:center;\"><strong>Samples</strong></td></tr><tr><td style=\"text-align:left;font-family: monospace;\">0x2</td><td style=\"text-align:left;font-family: monospace;\">010</td><td style=\"font-family: monospace;\">336</td></tr><tr><td style=\"text-align:left;font-family: monospace;\">0x1</td><td style=\"text-align:left;font-family: monospace;\">001</td><td style=\"font-family: monospace;\">334</td></tr><tr><td style=\"text-align:left;font-family: monospace;\">0x4</td><td style=\"text-align:left;font-family: monospace;\">100</td><td style=\"font-family: monospace;\">330</td></tr><tr><td colspan=2><hr></td></tr></tbody></table>"
      ],
      "text/plain": [
       "QCSResults:\n",
       "├── simulator: QLEO 0.1.22\n",
       "├── timings:\n",
       "│    ├── sample time: 0.00010581s\n",
       "│    └── apply time: 0.000108185s\n",
       "├── fidelity estimate: 1\n",
       "├── average multi-qubit gate error estimate: 0\n",
       "├── most sampled:\n",
       "│    ├── bs\"010\" => 336\n",
       "│    ├── bs\"001\" => 334\n",
       "│    └── bs\"100\" => 330\n",
       "├── 1 executions\n",
       "├── 0 amplitudes\n",
       "└── 1000 samples"
      ]
     },
     "execution_count": 19,
     "metadata": {},
     "output_type": "execute_result"
    }
   ],
   "source": [
    "circ_wstate = sim.parse_qasm(\"wstate_n3.qasm\")\n",
    "res_wstate = sim.execute(circ_wstate)\n",
    "res_wstate"
   ]
  },
  {
   "cell_type": "code",
   "execution_count": 20,
   "id": "ec6b3475-e555-4e0e-8531-7f95b9da250a",
   "metadata": {},
   "outputs": [
    {
     "data": {
      "image/png": "[encoded data removed]",
      "text/plain": [
       "<Figure size 960x720 with 1 Axes>"
      ]
     },
     "metadata": {},
     "output_type": "display_data"
    }
   ],
   "source": [
    "plothistogram(res_wstate);"
   ]
  },
  {
   "cell_type": "code",
   "execution_count": 21,
   "id": "3e403784-c663-46ee-84f5-eb2f39329583",
   "metadata": {},
   "outputs": [
    {
     "data": {
      "text/html": [
       "<table><tbody><tr><td colspan=2 style=\"text-align:center;\"><strong>QCSResults</strong></td></tr><tr><td colspan=2><hr></td></tr><tr><td colspan=2 style=\"text-align:center;\"><strong>Simulator</strong></td></tr><tr><td colspan=2 style=\"text-align:center;\">QLEO 0.1.22</td></tr><tr><td colspan=2><hr></td></tr><tr><td colspan=2 style=\"text-align:center;\"><strong>Timings</strong></td></tr><tr><td style=\"text-align:left;\">sample time</td><td>0.002663487s</td></tr><tr><td style=\"text-align:left;\">apply time</td><td>8.717896449s</td></tr><tr><td colspan=2><hr></td></tr><tr><td colspan=2></td></tr><tr><td colspan=2 style=\"text-align:center;\"><strong>Fidelity estimate</strong></td></tr><tr><td style=\"text-align:left;\">Single run value</td><td>1.0</td></tr><tr><td colspan=2><hr></td></tr><tr><td colspan=2></td></tr><tr><td colspan=2 style=\"text-align:center;\"><strong>Average multiqubit error estimate</strong></td></tr><tr><td style=\"text-align:left;\">Single run value</td><td>0.0</td></tr><tr><td colspan=2><hr></td></tr><tr><td colspan=2></td></tr><tr><td colspan=2 style=\"text-align:center;\"><strong>Statistics</strong></td></tr><tr><td style=\"text-align:left;\">Number of executions</td><td>1</td></tr><tr><td style=\"text-align:left;\">Number of samples</td><td>1000</td></tr><tr><td style=\"text-align:left;\">Number of amplitudes</td><td>0</td></tr><tr><td colspan=2><hr></td></tr><tr><td colspan=2></td></tr><tr><td colspan=2 style=\"text-align:center;\"><strong>Samples</strong></td></tr><tr><td style=\"text-align:left;font-family: monospace;\">0x6b</td><td style=\"text-align:left;font-family: monospace;\">1101011</td><td style=\"font-family: monospace;\">91</td></tr><tr><td style=\"text-align:left;font-family: monospace;\">0x57</td><td style=\"text-align:left;font-family: monospace;\">1010111</td><td style=\"font-family: monospace;\">76</td></tr><tr><td style=\"text-align:left;font-family: monospace;\">0x56</td><td style=\"text-align:left;font-family: monospace;\">1010110</td><td style=\"font-family: monospace;\">74</td></tr><tr><td style=\"text-align:left;font-family: monospace;\">0x69</td><td style=\"text-align:left;font-family: monospace;\">1101001</td><td style=\"font-family: monospace;\">73</td></tr><tr><td style=\"text-align:left;font-family: monospace;\">0x54</td><td style=\"text-align:left;font-family: monospace;\">1010100</td><td style=\"font-family: monospace;\">71</td></tr><tr><td style=\"text-align:left;font-family: monospace;\">0x68</td><td style=\"text-align:left;font-family: monospace;\">1101000</td><td style=\"font-family: monospace;\">70</td></tr><tr><td style=\"text-align:left;font-family: monospace;\">0x55</td><td style=\"text-align:left;font-family: monospace;\">1010101</td><td style=\"font-family: monospace;\">55</td></tr><tr><td style=\"text-align:left;font-family: monospace;\">0x6a</td><td style=\"text-align:left;font-family: monospace;\">1101010</td><td style=\"font-family: monospace;\">50</td></tr><tr><td style=\"text-align:left;font-family: monospace;\">0x50</td><td style=\"text-align:left;font-family: monospace;\">1010000</td><td style=\"font-family: monospace;\">18</td></tr><tr><td style=\"text-align:left;font-family: monospace;\">0x70</td><td style=\"text-align:left;font-family: monospace;\">1110000</td><td style=\"font-family: monospace;\">16</td></tr><tr><td colspan=2><hr></td></tr></tbody></table>"
      ],
      "text/plain": [
       "QCSResults:\n",
       "├── simulator: QLEO 0.1.22\n",
       "├── timings:\n",
       "│    ├── sample time: 0.002663487s\n",
       "│    └── apply time: 8.717896449s\n",
       "├── fidelity estimate: 1\n",
       "├── average multi-qubit gate error estimate: 0\n",
       "├── most sampled:\n",
       "│    ├── bs\"1101011\" => 91\n",
       "│    ├── bs\"1010111\" => 76\n",
       "│    ├── bs\"1010110\" => 74\n",
       "│    ├── bs\"1101001\" => 73\n",
       "│    └── bs\"1010100\" => 71\n",
       "├── 1 executions\n",
       "├── 0 amplitudes\n",
       "└── 1000 samples"
      ]
     },
     "execution_count": 21,
     "metadata": {},
     "output_type": "execute_result"
    }
   ],
   "source": [
    "res_factor = sim.execute(\"factor247_n15.qasm\")\n",
    "res_factor"
   ]
  },
  {
   "cell_type": "code",
   "execution_count": 22,
   "id": "20787662-3e76-4200-8792-9e9fb5dbab4e",
   "metadata": {},
   "outputs": [
    {
     "data": {
      "image/png": "[encoded data removed]",
      "text/plain": [
       "<Figure size 960x720 with 1 Axes>"
      ]
     },
     "metadata": {},
     "output_type": "display_data"
    }
   ],
   "source": [
    "plothistogram(res_factor);"
   ]
  }
 ],
 "metadata": {
  "kernelspec": {
   "display_name": "quobly_env",
   "language": "python",
   "name": "python3"
  },
  "language_info": {
   "codemirror_mode": {
    "name": "ipython",
    "version": 3
   },
   "file_extension": ".py",
   "mimetype": "text/x-python",
   "name": "python",
   "nbconvert_exporter": "python",
   "pygments_lexer": "ipython3",
   "version": "3.12.8"
  }
 },
 "nbformat": 4,
 "nbformat_minor": 5
}
