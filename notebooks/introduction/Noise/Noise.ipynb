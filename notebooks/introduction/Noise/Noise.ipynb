{
 "cells": [
  {
   "cell_type": "markdown",
   "id": "2bbd78bc-97dd-429f-9a0f-5f6c9ddbe591",
   "metadata": {},
   "source": [
    "# Building noise channels"
   ]
  },
  {
   "cell_type": "code",
   "execution_count": null,
   "id": "22775cca-c9d1-4c80-af86-cda6904d101b",
   "metadata": {},
   "outputs": [],
   "source": [
    "from quantanium import *"
   ]
  },
  {
   "cell_type": "code",
   "execution_count": 2,
   "id": "516aa84d-73b0-4e8b-8546-3db792376804",
   "metadata": {},
   "outputs": [
    {
     "name": "stdout",
     "output_type": "stream",
     "text": [
      "PauliX(0.1)\n"
     ]
    }
   ],
   "source": [
    "p = 0.1\n",
    "ch = PauliX(p)\n",
    "\n",
    "print(ch)"
   ]
  },
  {
   "cell_type": "code",
   "execution_count": 3,
   "id": "21ca4510-5370-4439-876c-058e662081fc",
   "metadata": {},
   "outputs": [
    {
     "data": {
      "text/plain": [
       "[1-qubit Operator:\n",
       " ├── 0.948683298050514 0\n",
       " └── 0 0.948683298050514,\n",
       " 1-qubit Operator:\n",
       " ├── 0 0.316227766016838\n",
       " └── 0.316227766016838 0]"
      ]
     },
     "execution_count": 3,
     "metadata": {},
     "output_type": "execute_result"
    }
   ],
   "source": [
    "ch.krausoperators()"
   ]
  },
  {
   "cell_type": "code",
   "execution_count": 4,
   "id": "421768cd-bcc1-4d0a-8053-dcfc3fccc429",
   "metadata": {},
   "outputs": [
    {
     "data": {
      "text/plain": [
       "True"
      ]
     },
     "execution_count": 4,
     "metadata": {},
     "output_type": "execute_result"
    }
   ],
   "source": [
    "ch.ismixedunitary()"
   ]
  },
  {
   "cell_type": "code",
   "execution_count": 5,
   "id": "61d3f8e1-6e28-47f9-b88e-3db3af514765",
   "metadata": {},
   "outputs": [
    {
     "data": {
      "text/plain": [
       "[[1.0, 0]\n",
       " [0, 1.0],\n",
       " [0, 1.0]\n",
       " [1.0, 0]]"
      ]
     },
     "execution_count": 5,
     "metadata": {},
     "output_type": "execute_result"
    }
   ],
   "source": [
    "ch.unitarymatrices()"
   ]
  },
  {
   "cell_type": "code",
   "execution_count": 6,
   "id": "23835db8-8df5-4e0a-9e21-a36f96d432b3",
   "metadata": {},
   "outputs": [
    {
     "data": {
      "text/plain": [
       "PauliNoise((0.8, pauli\"II\"), (0.1, pauli\"XX\"), (0.1, pauli\"YY\"))"
      ]
     },
     "execution_count": 6,
     "metadata": {},
     "output_type": "execute_result"
    }
   ],
   "source": [
    "ps = [0.8, 0.1, 0.1]\n",
    "paulis = [\"II\", \"XX\", \"YY\"]\n",
    "PauliNoise(ps, paulis)"
   ]
  },
  {
   "cell_type": "code",
   "execution_count": 7,
   "id": "0fcefbc7-fd95-4e81-aa2a-bdff495d4183",
   "metadata": {},
   "outputs": [
    {
     "data": {
      "text/plain": [
       "MixedUnitary((0.9, \"Custom([1.0 0; 0 1.0])\"), (0.1, \"Custom([1.0 0; 0 -1.0])\"))"
      ]
     },
     "execution_count": 7,
     "metadata": {},
     "output_type": "execute_result"
    }
   ],
   "source": [
    "from symengine import Matrix\n",
    "\n",
    "ps = [0.9, 0.1]\n",
    "E1 = GateID().matrix()\n",
    "E2 = GateZ().matrix()\n",
    "\n",
    "MixedUnitary(ps, [E1, E2])"
   ]
  },
  {
   "cell_type": "code",
   "execution_count": 8,
   "id": "ffb0353d-c0a0-4580-888e-a0238cf60994",
   "metadata": {},
   "outputs": [
    {
     "data": {
      "text/plain": [
       "Kraus(Operator([[1, 0], [0, 0.948683298050514]]), Operator([[0, 0.316227766016838], [0, 0]]))"
      ]
     },
     "execution_count": 8,
     "metadata": {},
     "output_type": "execute_result"
    }
   ],
   "source": [
    "from symengine import Matrix\n",
    "\n",
    "E1 = Matrix([[1, 0], [0, (0.9)**0.5]])\n",
    "E2 = Matrix([[0, (0.1)**0.5], [0, 0]])\n",
    "\n",
    "Kraus([E1, E2])"
   ]
  },
  {
   "cell_type": "code",
   "execution_count": 9,
   "id": "0cfbab0d-7851-444d-8f03-02fc91d6368d",
   "metadata": {},
   "outputs": [
    {
     "data": {
      "text/plain": [
       "Kraus(Operator([[1, 0], [0, 0.948683298050514]]), Operator([[0, 0.316227766016838], [0, 0]]))"
      ]
     },
     "execution_count": 9,
     "metadata": {},
     "output_type": "execute_result"
    }
   ],
   "source": [
    "# Create a simple Pauli-X channel\n",
    "p = 0.1\n",
    "ch = PauliX(p)\n",
    "\n",
    "# Properties\n",
    "ch.krausoperators()\n",
    "ch.ismixedunitary()\n",
    "ch.unitarymatrices()\n",
    "\n",
    "# Generic Pauli\n",
    "ps = [0.8, 0.1, 0.1]\n",
    "paulis = [\"II\", \"XX\", \"YY\"]\n",
    "PauliNoise(ps, paulis)\n",
    "\n",
    "from symengine import Matrix\n",
    "\n",
    "# Mixed unitary\n",
    "ps = [0.9, 0.1]\n",
    "E1 = GateID().matrix()\n",
    "E2 = GateZ().matrix()\n",
    "\n",
    "MixedUnitary(ps, [E1, E2])\n",
    "\n",
    "# Generic Kraus Channel\n",
    "E1 = Matrix([[1, 0], [0, (0.9)**0.5]])\n",
    "E2 = Matrix([[0, (0.1)**0.5], [0, 0]])\n",
    "\n",
    "Kraus([E1, E2])"
   ]
  },
  {
   "cell_type": "markdown",
   "id": "8fd6c295-2ef7-4d64-b784-31794752f585",
   "metadata": {},
   "source": [
    "# Adding noise one by one"
   ]
  },
  {
   "cell_type": "code",
   "execution_count": 10,
   "id": "048b833d-4436-474c-b84c-6f2eb15bb8e1",
   "metadata": {},
   "outputs": [
    {
     "name": "stdout",
     "output_type": "stream",
     "text": [
      "5-qubit circuit with 25 instructions:\n",
      "├── PauliX(0.1) @ q[0]\n",
      "├── PauliX(0.1) @ q[1]\n",
      "├── PauliX(0.1) @ q[2]\n",
      "├── PauliX(0.1) @ q[3]\n",
      "├── PauliX(0.1) @ q[4]\n",
      "├── H @ q[1]\n",
      "├── AmplitudeDamping(0.1) @ q[1]\n",
      "├── CX @ q[0], q[1]\n",
      "├── CX @ q[0], q[2]\n",
      "├── CX @ q[0], q[3]\n",
      "├── CX @ q[0], q[4]\n",
      "├── Depolarizing(0.1) @ q[0,1]\n",
      "├── Depolarizing(0.1) @ q[0,2]\n",
      "├── Depolarizing(0.1) @ q[0,3]\n",
      "├── Depolarizing(0.1) @ q[0,4]\n",
      "├── PauliX(0.1) @ q[0]\n",
      "├── PauliX(0.1) @ q[1]\n",
      "├── PauliX(0.1) @ q[2]\n",
      "├── PauliX(0.1) @ q[3]\n",
      "├── PauliX(0.1) @ q[4]\n",
      "├── M @ q[0], c[0]\n",
      "├── M @ q[1], c[1]\n",
      "├── M @ q[2], c[2]\n",
      "├── M @ q[3], c[3]\n",
      "└── M @ q[4], c[4]\n"
     ]
    }
   ],
   "source": [
    "# Example Noisy GHZ state preparation\n",
    "c = Circuit()\n",
    "\n",
    "# preparation like error\n",
    "c.push(PauliX(0.1), range(5))\n",
    "\n",
    "# Noisy gate-H\n",
    "c.push(GateH(), 1)\n",
    "c.push(AmplitudeDamping(0.1), 1)\n",
    "\n",
    "# Noisy gate-CNOT\n",
    "c.push(GateCX(), 0, range(1,5))\n",
    "c.push(Depolarizing2(0.1), 0, range(1,5))\n",
    "\n",
    "# Noisy Measurements\n",
    "c.push(PauliX(0.1), range(5))\n",
    "c.push(Measure(), range(5), range(5))\n",
    "\n",
    "print(c)"
   ]
  },
  {
   "cell_type": "markdown",
   "id": "ee400dfa-3778-4559-b4df-312b56f92b74",
   "metadata": {},
   "source": [
    "# Adding noise to all gates of the same type"
   ]
  },
  {
   "cell_type": "code",
   "execution_count": 11,
   "id": "3e0f1aa2-d3f9-408a-951c-19aa1aa4ff14",
   "metadata": {},
   "outputs": [
    {
     "name": "stdout",
     "output_type": "stream",
     "text": [
      "5-qubit circuit with 30 instructions:\n",
      "├── Reset @ q[0]\n",
      "├── Reset @ q[1]\n",
      "├── Reset @ q[2]\n",
      "├── Reset @ q[3]\n",
      "├── Reset @ q[4]\n",
      "├── PauliX(0.1) @ q[0]\n",
      "├── PauliX(0.1) @ q[1]\n",
      "├── PauliX(0.1) @ q[2]\n",
      "├── PauliX(0.1) @ q[3]\n",
      "├── PauliX(0.1) @ q[4]\n",
      "├── H @ q[0]\n",
      "├── AmplitudeDamping(0.1) @ q[0]\n",
      "├── CX @ q[0], q[1]\n",
      "├── Depolarizing(0.2) @ q[0,1]\n",
      "├── CX @ q[0], q[2]\n",
      "├── Depolarizing(0.2) @ q[0,2]\n",
      "├── CX @ q[0], q[3]\n",
      "├── Depolarizing(0.2) @ q[0,3]\n",
      "├── CX @ q[0], q[4]\n",
      "├── Depolarizing(0.2) @ q[0,4]\n",
      "├── PauliX(0.1) @ q[0]\n",
      "├── PauliX(0.1) @ q[0]\n",
      "├── PauliX(0.1) @ q[0]\n",
      "├── PauliX(0.1) @ q[0]\n",
      "├── PauliX(0.1) @ q[0]\n",
      "├── M @ q[0], c[0]\n",
      "├── M @ q[1], c[1]\n",
      "├── M @ q[2], c[2]\n",
      "├── M @ q[3], c[3]\n",
      "└── M @ q[4], c[4]\n"
     ]
    }
   ],
   "source": [
    "# Example Noisy GHZ state preparation\n",
    "# starts by resetting all qubits\n",
    "c = Circuit()\n",
    "c.push(Reset(), range(5))\n",
    "c.push(GateH(), 0)\n",
    "c.push(GateCX(), 0, range(1,5))\n",
    "c.push(Measure(), range(5), range(5))\n",
    "\n",
    "# Adding Noise\n",
    "c.add_noise(Reset(), PauliX(0.1), parallel=True)\n",
    "c.add_noise(GateH(), AmplitudeDamping(0.1))\n",
    "c.add_noise(GateCX(), Depolarizing2(0.2), parallel=True)\n",
    "c.add_noise(Measure(), PauliX(0.1), parallel=True, before=True)\n",
    "\n",
    "print(c)"
   ]
  },
  {
   "cell_type": "markdown",
   "id": "24ad692e-9633-4437-ae4b-0502ebb5b867",
   "metadata": {},
   "source": [
    "# Running Noisy Simulations"
   ]
  },
  {
   "cell_type": "code",
   "execution_count": null,
   "id": "3ff9b193-98fa-411c-b043-9c73658f97e4",
   "metadata": {},
   "outputs": [
    {
     "data": {
      "text/html": [
       "<table><tbody><tr><td colspan=2 style=\"text-align:center;\"><strong>QCSResults</strong></td></tr><tr><td colspan=2><hr></td></tr><tr><td colspan=2 style=\"text-align:center;\"><strong>Simulator</strong></td></tr><tr><td colspan=2 style=\"text-align:center;\">QLEO 0.1.22</td></tr><tr><td colspan=2><hr></td></tr><tr><td colspan=2 style=\"text-align:center;\"><strong>Timings</strong></td></tr><tr><td style=\"text-align:left;\">sample time</td><td>0.0s</td></tr><tr><td style=\"text-align:left;\">apply time</td><td>0.066502476s</td></tr><tr><td colspan=2><hr></td></tr><tr><td colspan=2></td></tr><tr><td colspan=2 style=\"text-align:center;\"><strong>Fidelity estimate</strong></td></tr><tr><td style=\"text-align:left;\">Mean</td><td>1.0</td></tr><tr><td style=\"text-align:left;\">Median</td><td>1.0</td></tr><tr><td style=\"text-align:left;\">Standard Deviation</td><td>0.0</td></tr><tr><td colspan=2><hr></td></tr><tr><td colspan=2></td></tr><tr><td colspan=2 style=\"text-align:center;\"><strong>Average multiqubit error estimate</strong></td></tr><tr><td style=\"text-align:left;\">Mean</td><td>0.0</td></tr><tr><td style=\"text-align:left;\">Median</td><td>0.0</td></tr><tr><td style=\"text-align:left;\">Standard Deviation</td><td>0.0</td></tr><tr><td colspan=2><hr></td></tr><tr><td colspan=2></td></tr><tr><td colspan=2 style=\"text-align:center;\"><strong>Statistics</strong></td></tr><tr><td style=\"text-align:left;\">Number of executions</td><td>1000</td></tr><tr><td style=\"text-align:left;\">Number of samples</td><td>1000</td></tr><tr><td style=\"text-align:left;\">Number of amplitudes</td><td>0</td></tr><tr><td colspan=2><hr></td></tr><tr><td colspan=2></td></tr><tr><td colspan=2 style=\"text-align:center;\"><strong>Samples</strong></td></tr><tr><td style=\"text-align:left;font-family: monospace;\">0x1f</td><td style=\"text-align:left;font-family: monospace;\">11111</td><td style=\"font-family: monospace;\">342</td></tr><tr><td style=\"text-align:left;font-family: monospace;\">0x0</td><td style=\"text-align:left;font-family: monospace;\">00000</td><td style=\"font-family: monospace;\">338</td></tr><tr><td style=\"text-align:left;font-family: monospace;\">0xf</td><td style=\"text-align:left;font-family: monospace;\">01111</td><td style=\"font-family: monospace;\">180</td></tr><tr><td style=\"text-align:left;font-family: monospace;\">0x10</td><td style=\"text-align:left;font-family: monospace;\">10000</td><td style=\"font-family: monospace;\">140</td></tr><tr><td colspan=2><hr></td></tr></tbody></table>"
      ],
      "text/plain": [
       "QCSResults:\n",
       "├── simulator: QLEO 0.1.22\n",
       "├── timings:\n",
       "│    └── apply time: 0.066502476s\n",
       "├── fidelity estimate:\n",
       "│    ├── min, max: 1, 1\n",
       "│    ├── mean: 1\n",
       "│    ├── median: 1\n",
       "│    └── std: 0\n",
       "├── average multi-qubit gate error estimate:\n",
       "│    ├── min, max: 0, 0\n",
       "│    ├── mean: 0\n",
       "│    ├── median: 0\n",
       "│    └── std: 0\n",
       "├── most sampled:\n",
       "│    ├── bs\"11111\" => 342\n",
       "│    ├── bs\"00000\" => 338\n",
       "│    ├── bs\"01111\" => 180\n",
       "│    └── bs\"10000\" => 140\n",
       "├── 1000 executions\n",
       "├── 0 amplitudes\n",
       "└── 1000 samples"
      ]
     },
     "execution_count": 12,
     "metadata": {},
     "output_type": "execute_result"
    }
   ],
   "source": [
    "# Build a GHZ state with noisy measurements\n",
    "c = Circuit()\n",
    "c.push(GateH(), 0)\n",
    "c.push(GateCX(), 0, range(1,5))\n",
    "c.push(Measure(), range(5), range(5))\n",
    "\n",
    "# Add some noise\n",
    "c.add_noise(Measure(), PauliX(0.1), before=True, parallel=True)\n",
    "\n",
    "# execute the quantum circuit\n",
    "quantanium().execute(c)"
   ]
  },
  {
   "cell_type": "markdown",
   "id": "cd7fbf1c-0c6c-4e29-ad60-1ddc611dce68",
   "metadata": {},
   "source": [
    "# Sampling Mixed Unitary Channels"
   ]
  },
  {
   "cell_type": "code",
   "execution_count": 13,
   "id": "db4cb343-981c-47b4-875f-3ebf288b5b0c",
   "metadata": {},
   "outputs": [
    {
     "data": {
      "text/plain": [
       "6-qubit circuit with 5 instructions:\n",
       "├── X @ q[1]\n",
       "├── I @ q[2]\n",
       "├── I @ q[3]\n",
       "├── I @ q[4]\n",
       "└── Y @ q[5]"
      ]
     },
     "execution_count": 13,
     "metadata": {},
     "output_type": "execute_result"
    }
   ],
   "source": [
    "import random\n",
    "\n",
    "# create a new prng with a fixed seed\n",
    "rng = random.Random(42)\n",
    "\n",
    "# Create a circuit with mixed unitary noise\n",
    "c = Circuit()\n",
    "c.push(Depolarizing1(0.5), [1,2,3,4,5])\n",
    "\n",
    "# Sample the mixed_unitary noise\n",
    "c.sample_mixedunitaries(rng=rng, ids=True)"
   ]
  },
  {
   "cell_type": "markdown",
   "id": "81d64330-817e-403d-b45c-3e27a7ae92c1",
   "metadata": {},
   "source": [
    "# Noise Channels"
   ]
  },
  {
   "cell_type": "markdown",
   "id": "1e2ae726-1c07-4025-bc2a-4f0a98e06ff1",
   "metadata": {},
   "source": [
    "## Depolarizing Noise"
   ]
  },
  {
   "cell_type": "code",
   "execution_count": 14,
   "id": "b326a629-0982-4c2c-9615-8fdf17c8255b",
   "metadata": {},
   "outputs": [
    {
     "data": {
      "text/plain": [
       "5-qubit circuit with 5 instructions:\n",
       "├── Depolarizing(0.1) @ q[0]\n",
       "├── Depolarizing(0.2) @ q[0]\n",
       "├── Depolarizing(0.3) @ q[0,1]\n",
       "├── Depolarizing(0.5) @ q[0,1]\n",
       "└── Depolarizing(0.6) @ q[0,1,2,3,4]"
      ]
     },
     "execution_count": 14,
     "metadata": {},
     "output_type": "execute_result"
    }
   ],
   "source": [
    "c = Circuit()\n",
    "\n",
    "c.push(Depolarizing(1, 0.1), 0)\n",
    "c.push(Depolarizing1(0.2), 0)\n",
    "c.push(Depolarizing(2, 0.3), 0, 1)\n",
    "c.push(Depolarizing2(0.5), 0, 1)\n",
    "c.push(Depolarizing(5, 0.6), *range(5))"
   ]
  },
  {
   "cell_type": "code",
   "execution_count": 15,
   "id": "191ac321-e6b4-4d09-8022-933fbc853a2d",
   "metadata": {},
   "outputs": [
    {
     "data": {
      "text/plain": [
       "[1-qubit Operator:\n",
       " ├── 0.948683298050514 0\n",
       " └── 0 0.948683298050514,\n",
       " 1-qubit Operator:\n",
       " ├── 0 0.182574185835055\n",
       " └── 0.182574185835055 0,\n",
       " 1-qubit Operator:\n",
       " ├── 0 -0.0 - 0.182574185835055*I\n",
       " └── 0.0 + 0.182574185835055*I 0,\n",
       " 1-qubit Operator:\n",
       " ├── 0.182574185835055 0\n",
       " └── 0 -0.182574185835055]"
      ]
     },
     "execution_count": 15,
     "metadata": {},
     "output_type": "execute_result"
    }
   ],
   "source": [
    "Depolarizing(1, 0.1).krausoperators()"
   ]
  },
  {
   "cell_type": "markdown",
   "id": "323266bf-2d8c-4d5d-aa97-64c7a34d610b",
   "metadata": {},
   "source": [
    "## Pauli Noise"
   ]
  },
  {
   "cell_type": "code",
   "execution_count": 16,
   "id": "edaff671-ae34-41d9-afbd-73a48887b0bf",
   "metadata": {},
   "outputs": [
    {
     "data": {
      "text/plain": [
       "2-qubit circuit with 2 instructions:\n",
       "├── PauliNoise((0.8, pauli\"I\"), (0.1, pauli\"X\"), (0.1, pauli\"Y\")) @ q[0]\n",
       "└── PauliNoise((0.9, pauli\"XY\"), (0.1, pauli\"II\")) @ q[0]"
      ]
     },
     "execution_count": 16,
     "metadata": {},
     "output_type": "execute_result"
    }
   ],
   "source": [
    "c = Circuit()\n",
    "\n",
    "# Single-qubit pauli noise\n",
    "ps = [0.8, 0.1, 0.1]\n",
    "paulis = [\"I\", \"X\", \"Y\"]\n",
    "c.push(PauliNoise(ps, paulis), 0)\n",
    "\n",
    "# Multi=qubit Pauli noise\n",
    "ps = [0.9, 0.1]\n",
    "paulis = [\"XY\", \"II\"]\n",
    "c.push(PauliNoise(ps, paulis), 0, 1)"
   ]
  },
  {
   "cell_type": "markdown",
   "id": "e21f436e-a59d-4fe6-b1f5-18d7dc06dea3",
   "metadata": {},
   "source": [
    "## Amplitude Damping"
   ]
  },
  {
   "cell_type": "code",
   "execution_count": 17,
   "id": "0c2e5aef-b4bd-4595-91c8-30bd2a2efc2b",
   "metadata": {},
   "outputs": [
    {
     "data": {
      "text/plain": [
       "[D(1, np.float64(0.9486832980505138)), SigmaMinus(0.31622776601683794)]"
      ]
     },
     "execution_count": 17,
     "metadata": {},
     "output_type": "execute_result"
    }
   ],
   "source": [
    "c = Circuit()\n",
    "\n",
    "c.push(AmplitudeDamping(0.1), 0)\n",
    "\n",
    "# Show the operators making up the channel\n",
    "AmplitudeDamping(0.1).krausoperators()"
   ]
  },
  {
   "cell_type": "markdown",
   "id": "b510e9ae-8b4b-4902-acaf-92d6564be052",
   "metadata": {},
   "source": [
    "## Thermal Noise"
   ]
  },
  {
   "cell_type": "code",
   "execution_count": 18,
   "id": "636bac87-d4a3-4a4e-9a3c-19180ba6ae72",
   "metadata": {},
   "outputs": [
    {
     "data": {
      "text/plain": [
       "2-qubit circuit with 1 instructions:\n",
       "└── ThermalNoise(0.5, 0.6, 1.2, 0.3) @ q[1]"
      ]
     },
     "execution_count": 18,
     "metadata": {},
     "output_type": "execute_result"
    }
   ],
   "source": [
    "c = Circuit()\n",
    "\n",
    "tn = ThermalNoise(0.5, 0.6, 1.2, 0.3)\n",
    "c.push(tn, 1)"
   ]
  },
  {
   "cell_type": "code",
   "execution_count": 19,
   "id": "4d5f24c1-09d3-4128-a2a6-d3380f85f58b",
   "metadata": {},
   "outputs": [
    {
     "data": {
      "text/plain": [
       "[D(np.float64(0.22446947713592924), np.float64(0.6029117408896503)),\n",
       " P₀(0.8226960798625129),\n",
       " SigmaMinus(0.7978078921002294),\n",
       " SigmaPlus(0.522287865083209)]"
      ]
     },
     "execution_count": 19,
     "metadata": {},
     "output_type": "execute_result"
    }
   ],
   "source": [
    "tn.krausoperators()"
   ]
  },
  {
   "cell_type": "markdown",
   "id": "0199d98d-56d4-4139-ae32-298b6e3c3ad3",
   "metadata": {},
   "source": [
    "## Projective Noise"
   ]
  },
  {
   "cell_type": "code",
   "execution_count": 20,
   "id": "d398c15b-fc35-4f62-b19b-99c50c2e02b3",
   "metadata": {},
   "outputs": [
    {
     "data": {
      "text/plain": [
       "2-qubit circuit with 2 instructions:\n",
       "├── ProjectiveNoiseZ @ q[1]\n",
       "└── ProjectiveNoiseX @ q[1]"
      ]
     },
     "execution_count": 20,
     "metadata": {},
     "output_type": "execute_result"
    }
   ],
   "source": [
    "c = Circuit()\n",
    "\n",
    "c.push(ProjectiveNoise(\"Z\"), 1)\n",
    "c.push(ProjectiveNoiseX(), 1)"
   ]
  },
  {
   "cell_type": "code",
   "execution_count": 21,
   "id": "a6d2e4ed-1d68-42e5-a139-a6f76ffabc82",
   "metadata": {},
   "outputs": [
    {
     "data": {
      "text/plain": [
       "[PX₀(1), PX₁(1)]"
      ]
     },
     "execution_count": 21,
     "metadata": {},
     "output_type": "execute_result"
    }
   ],
   "source": [
    "ProjectiveNoiseX().krausoperators()"
   ]
  },
  {
   "cell_type": "markdown",
   "id": "6f830538-3b41-431d-8a24-e0ab26db4c80",
   "metadata": {},
   "source": [
    "## Reset"
   ]
  },
  {
   "cell_type": "code",
   "execution_count": 22,
   "id": "cd2799cb-5add-4448-be01-1b38c8bfdfc4",
   "metadata": {},
   "outputs": [
    {
     "data": {
      "text/plain": [
       "4-qubit circuit with 4 instructions:\n",
       "├── Reset @ q[0]\n",
       "├── Reset @ q[1]\n",
       "├── Reset @ q[2]\n",
       "└── Reset @ q[3]"
      ]
     },
     "execution_count": 22,
     "metadata": {},
     "output_type": "execute_result"
    }
   ],
   "source": [
    "c = Circuit()\n",
    "\n",
    "c.push(Reset(), range(4))"
   ]
  },
  {
   "cell_type": "code",
   "execution_count": 23,
   "id": "0074355f-6bb2-4e5b-ab4e-abcdae4ca9b4",
   "metadata": {},
   "outputs": [
    {
     "data": {
      "text/plain": [
       "[P₀(1.0), SigmaMinus(1.0)]"
      ]
     },
     "execution_count": 23,
     "metadata": {},
     "output_type": "execute_result"
    }
   ],
   "source": [
    "Reset().krausoperators()"
   ]
  },
  {
   "cell_type": "markdown",
   "id": "ae5b7b58-7a61-4a6e-ae39-dfd1885d65a2",
   "metadata": {},
   "source": [
    "# Amplitude"
   ]
  },
  {
   "cell_type": "code",
   "execution_count": 24,
   "id": "d4c4f49e-cf9b-44af-9c5b-c252e9e6f8eb",
   "metadata": {},
   "outputs": [
    {
     "data": {
      "text/plain": [
       "3-qubit circuit with 4 instructions:\n",
       "├── H @ q[0]\n",
       "├── H @ q[1]\n",
       "├── H @ q[2]\n",
       "└── Amplitude(bs\"101\") @ z[0]"
      ]
     },
     "execution_count": 24,
     "metadata": {},
     "output_type": "execute_result"
    }
   ],
   "source": [
    "# Mistery circuit\n",
    "c = Circuit()\n",
    "c.push(GateH(), range(3))\n",
    "\n",
    "# ask for the amplitude\n",
    "amp = Amplitude(BitString(\"101\"))\n",
    "c.push(amp, 0)"
   ]
  },
  {
   "cell_type": "code",
   "execution_count": null,
   "id": "247e9bc5-fdc0-489b-a6d1-1630d31f999f",
   "metadata": {},
   "outputs": [
    {
     "data": {
      "text/html": [
       "<table><tbody><tr><td colspan=2 style=\"text-align:center;\"><strong>QCSResults</strong></td></tr><tr><td colspan=2><hr></td></tr><tr><td colspan=2 style=\"text-align:center;\"><strong>Simulator</strong></td></tr><tr><td colspan=2 style=\"text-align:center;\">QLEO 0.1.22</td></tr><tr><td colspan=2><hr></td></tr><tr><td colspan=2 style=\"text-align:center;\"><strong>Timings</strong></td></tr><tr><td style=\"text-align:left;\">sample time</td><td>0.00014129s</td></tr><tr><td style=\"text-align:left;\">apply time</td><td>3.8553e-05s</td></tr><tr><td colspan=2><hr></td></tr><tr><td colspan=2></td></tr><tr><td colspan=2 style=\"text-align:center;\"><strong>Fidelity estimate</strong></td></tr><tr><td style=\"text-align:left;\">Single run value</td><td>1.0</td></tr><tr><td colspan=2><hr></td></tr><tr><td colspan=2></td></tr><tr><td colspan=2 style=\"text-align:center;\"><strong>Average multiqubit error estimate</strong></td></tr><tr><td style=\"text-align:left;\">Single run value</td><td>0.0</td></tr><tr><td colspan=2><hr></td></tr><tr><td colspan=2></td></tr><tr><td colspan=2 style=\"text-align:center;\"><strong>Statistics</strong></td></tr><tr><td style=\"text-align:left;\">Number of executions</td><td>1</td></tr><tr><td style=\"text-align:left;\">Number of samples</td><td>1000</td></tr><tr><td style=\"text-align:left;\">Number of amplitudes</td><td>0</td></tr><tr><td colspan=2><hr></td></tr><tr><td colspan=2></td></tr><tr><td colspan=2 style=\"text-align:center;\"><strong>Samples</strong></td></tr><tr><td style=\"text-align:left;font-family: monospace;\">0x3</td><td style=\"text-align:left;font-family: monospace;\">011</td><td style=\"font-family: monospace;\">140</td></tr><tr><td style=\"text-align:left;font-family: monospace;\">0x5</td><td style=\"text-align:left;font-family: monospace;\">101</td><td style=\"font-family: monospace;\">133</td></tr><tr><td style=\"text-align:left;font-family: monospace;\">0x1</td><td style=\"text-align:left;font-family: monospace;\">001</td><td style=\"font-family: monospace;\">130</td></tr><tr><td style=\"text-align:left;font-family: monospace;\">0x6</td><td style=\"text-align:left;font-family: monospace;\">110</td><td style=\"font-family: monospace;\">130</td></tr><tr><td style=\"text-align:left;font-family: monospace;\">0x7</td><td style=\"text-align:left;font-family: monospace;\">111</td><td style=\"font-family: monospace;\">123</td></tr><tr><td style=\"text-align:left;font-family: monospace;\">0x0</td><td style=\"text-align:left;font-family: monospace;\">000</td><td style=\"font-family: monospace;\">122</td></tr><tr><td style=\"text-align:left;font-family: monospace;\">0x4</td><td style=\"text-align:left;font-family: monospace;\">100</td><td style=\"font-family: monospace;\">112</td></tr><tr><td style=\"text-align:left;font-family: monospace;\">0x2</td><td style=\"text-align:left;font-family: monospace;\">010</td><td style=\"font-family: monospace;\">110</td></tr><tr><td colspan=2><hr></td></tr><tr><td colspan=2></td></tr><tr><td colspan=2 style=\"text-align:center;\"><strong>Z States</strong></td></tr><tr><td style=\"text-align:left;font-family: monospace;\">[(0.3535533905932737+0j)]</td><td style=\"text-align:left;font-family: monospace;\">1</td></tr><tr><td colspan=2><hr></td></tr></tbody></table>"
      ],
      "text/plain": [
       "QCSResults:\n",
       "├── simulator: QLEO 0.1.22\n",
       "├── timings:\n",
       "│    ├── sample time: 0.00014129s\n",
       "│    └── apply time: 3.8553e-05s\n",
       "├── fidelity estimate: 1\n",
       "├── average multi-qubit gate error estimate: 0\n",
       "├── most sampled:\n",
       "│    ├── bs\"011\" => 140\n",
       "│    ├── bs\"101\" => 133\n",
       "│    ├── bs\"001\" => 130\n",
       "│    ├── bs\"110\" => 130\n",
       "│    └── bs\"111\" => 123\n",
       "├── zreg (most sampled):\n",
       "│    └── [(0.3535533905932737+0j)] => 1\n",
       "├── 1 executions\n",
       "├── 0 amplitudes\n",
       "└── 1000 samples"
      ]
     },
     "execution_count": 25,
     "metadata": {},
     "output_type": "execute_result"
    }
   ],
   "source": [
    "quantanium().execute(c)"
   ]
  },
  {
   "cell_type": "markdown",
   "id": "51221a45-fa50-4595-ac2e-15a6fb025346",
   "metadata": {},
   "source": [
    "# Expectation Values"
   ]
  },
  {
   "cell_type": "code",
   "execution_count": 26,
   "id": "0ae2779d-bc89-4cbb-8aa1-9c07ffe5f55c",
   "metadata": {},
   "outputs": [
    {
     "data": {
      "text/plain": [
       "1-qubit circuit with 2 instructions:\n",
       "├── H @ q[0]\n",
       "└── ⟨SigmaPlus(1)⟩ @ q[0], z[0]"
      ]
     },
     "execution_count": 26,
     "metadata": {},
     "output_type": "execute_result"
    }
   ],
   "source": [
    "# Prepare one qubit in |+>\n",
    "c = Circuit()\n",
    "c.push(GateH(), 0)\n",
    "\n",
    "# Measure the expval of sigma+\n",
    "op = SigmaPlus()\n",
    "ev = ExpectationValue(op)\n",
    "c.push(ev, 0, 0)"
   ]
  },
  {
   "cell_type": "code",
   "execution_count": null,
   "id": "8e9ba412-d6a3-4f2e-ac0c-d4f7c69efb85",
   "metadata": {},
   "outputs": [
    {
     "data": {
      "text/html": [
       "<table><tbody><tr><td colspan=2 style=\"text-align:center;\"><strong>QCSResults</strong></td></tr><tr><td colspan=2><hr></td></tr><tr><td colspan=2 style=\"text-align:center;\"><strong>Simulator</strong></td></tr><tr><td colspan=2 style=\"text-align:center;\">QLEO 0.1.22</td></tr><tr><td colspan=2><hr></td></tr><tr><td colspan=2 style=\"text-align:center;\"><strong>Timings</strong></td></tr><tr><td style=\"text-align:left;\">sample time</td><td>0.000111049s</td></tr><tr><td style=\"text-align:left;\">apply time</td><td>6.3905e-05s</td></tr><tr><td colspan=2><hr></td></tr><tr><td colspan=2></td></tr><tr><td colspan=2 style=\"text-align:center;\"><strong>Fidelity estimate</strong></td></tr><tr><td style=\"text-align:left;\">Single run value</td><td>1.0</td></tr><tr><td colspan=2><hr></td></tr><tr><td colspan=2></td></tr><tr><td colspan=2 style=\"text-align:center;\"><strong>Average multiqubit error estimate</strong></td></tr><tr><td style=\"text-align:left;\">Single run value</td><td>0.0</td></tr><tr><td colspan=2><hr></td></tr><tr><td colspan=2></td></tr><tr><td colspan=2 style=\"text-align:center;\"><strong>Statistics</strong></td></tr><tr><td style=\"text-align:left;\">Number of executions</td><td>1</td></tr><tr><td style=\"text-align:left;\">Number of samples</td><td>1000</td></tr><tr><td style=\"text-align:left;\">Number of amplitudes</td><td>0</td></tr><tr><td colspan=2><hr></td></tr><tr><td colspan=2></td></tr><tr><td colspan=2 style=\"text-align:center;\"><strong>Samples</strong></td></tr><tr><td style=\"text-align:left;font-family: monospace;\">0x0</td><td style=\"text-align:left;font-family: monospace;\">0</td><td style=\"font-family: monospace;\">510</td></tr><tr><td style=\"text-align:left;font-family: monospace;\">0x1</td><td style=\"text-align:left;font-family: monospace;\">1</td><td style=\"font-family: monospace;\">490</td></tr><tr><td colspan=2><hr></td></tr><tr><td colspan=2></td></tr><tr><td colspan=2 style=\"text-align:center;\"><strong>Z States</strong></td></tr><tr><td style=\"text-align:left;font-family: monospace;\">[(0.4999999999999999+0j)]</td><td style=\"text-align:left;font-family: monospace;\">1</td></tr><tr><td colspan=2><hr></td></tr></tbody></table>"
      ],
      "text/plain": [
       "QCSResults:\n",
       "├── simulator: QLEO 0.1.22\n",
       "├── timings:\n",
       "│    ├── sample time: 0.000111049s\n",
       "│    └── apply time: 6.3905e-05s\n",
       "├── fidelity estimate: 1\n",
       "├── average multi-qubit gate error estimate: 0\n",
       "├── most sampled:\n",
       "│    ├── bs\"0\" => 510\n",
       "│    └── bs\"1\" => 490\n",
       "├── zreg (most sampled):\n",
       "│    └── [(0.4999999999999999+0j)] => 1\n",
       "├── 1 executions\n",
       "├── 0 amplitudes\n",
       "└── 1000 samples"
      ]
     },
     "execution_count": 27,
     "metadata": {},
     "output_type": "execute_result"
    }
   ],
   "source": [
    "quantanium().execute(c)"
   ]
  }
 ],
 "metadata": {
  "kernelspec": {
   "display_name": "quobly_env",
   "language": "python",
   "name": "python3"
  },
  "language_info": {
   "codemirror_mode": {
    "name": "ipython",
    "version": 3
   },
   "file_extension": ".py",
   "mimetype": "text/x-python",
   "name": "python",
   "nbconvert_exporter": "python",
   "pygments_lexer": "ipython3",
   "version": "3.12.8"
  }
 },
 "nbformat": 4,
 "nbformat_minor": 5
}
