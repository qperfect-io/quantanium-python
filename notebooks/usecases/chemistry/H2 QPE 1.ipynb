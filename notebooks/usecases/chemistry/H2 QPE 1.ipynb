{
 "cells": [
  {
   "cell_type": "code",
   "execution_count": null,
   "id": "b721c232-63fa-49b5-b3ea-0d0be67f5a3d",
   "metadata": {},
   "outputs": [],
   "source": [
    "from quantanium import *\n",
    "from openfermion.chem import MolecularData\n",
    "from openfermionpyscf import PyscfMolecularData, run_pyscf\n",
    "from openfermion.transforms import jordan_wigner\n",
    "import matplotlib.pyplot as plt\n",
    "import numpy as np"
   ]
  },
  {
   "cell_type": "code",
   "execution_count": 4,
   "id": "51de5ec2-2ed5-44e7-9605-62b8dbe375e1",
   "metadata": {},
   "outputs": [],
   "source": [
    "# Molecule and basis configuration\n",
    "basis = 'STO-3G'\n",
    "multiplicity = 1\n",
    "bond_length = 0.74\n",
    "geometry = [('H', (0.,0.,0.)),\n",
    "            ('H', (0.,bond_length,0.))]"
   ]
  },
  {
   "cell_type": "code",
   "execution_count": 5,
   "id": "cdfcb7d3-b1fe-41f8-a459-77f425669a9e",
   "metadata": {},
   "outputs": [],
   "source": [
    "# PySCF configuration\n",
    "run_scf = 1\n",
    "run_mp2 = 1\n",
    "run_cisd = 0\n",
    "run_ccsd = 0\n",
    "run_fci = 1\n",
    "delete_input = True\n",
    "delete_output = True"
   ]
  },
  {
   "cell_type": "code",
   "execution_count": 6,
   "id": "1b5f37db-7fc9-4a82-bcb5-da36778b1f79",
   "metadata": {},
   "outputs": [
    {
     "data": {
      "text/plain": [
       "<openfermion.chem.molecular_data.MolecularData at 0x7bb557b61f70>"
      ]
     },
     "execution_count": 6,
     "metadata": {},
     "output_type": "execute_result"
    }
   ],
   "source": [
    "# Retrieve Molecular data\n",
    "molecule = MolecularData(\n",
    "    geometry, basis, multiplicity,\n",
    "    description=\"HH length \" + str(bond_length))\n",
    "\n",
    "molecule"
   ]
  },
  {
   "cell_type": "code",
   "execution_count": 7,
   "id": "99d4067c-00cb-40e3-a5c3-ee3c438d190f",
   "metadata": {},
   "outputs": [
    {
     "data": {
      "text/plain": [
       "<openfermionpyscf._pyscf_molecular_data.PyscfMolecularData at 0x7bb551d07fe0>"
      ]
     },
     "execution_count": 7,
     "metadata": {},
     "output_type": "execute_result"
    }
   ],
   "source": [
    "molecule = run_pyscf(\n",
    "    molecule,\n",
    "    run_scf=run_scf,\n",
    "    run_mp2=run_mp2,\n",
    "    run_cisd=run_cisd,\n",
    "    run_ccsd=run_ccsd,\n",
    "    run_fci=run_fci)\n",
    "\n",
    "molecule"
   ]
  },
  {
   "cell_type": "code",
   "execution_count": 8,
   "id": "200a4cb3-1268-4f9f-a5ef-3f40da4bd20f",
   "metadata": {},
   "outputs": [
    {
     "data": {
      "text/plain": [
       "-0.09706626816763125 [] +\n",
       "-0.04530261550379926 [X0 X1 Y2 Y3] +\n",
       "0.04530261550379926 [X0 Y1 Y2 X3] +\n",
       "0.04530261550379926 [Y0 X1 X2 Y3] +\n",
       "-0.04530261550379926 [Y0 Y1 X2 X3] +\n",
       "0.17141282644776926 [Z0] +\n",
       "0.16868898170361205 [Z0 Z1] +\n",
       "0.12062523483390411 [Z0 Z2] +\n",
       "0.16592785033770338 [Z0 Z3] +\n",
       "0.1714128264477692 [Z1] +\n",
       "0.16592785033770338 [Z1 Z2] +\n",
       "0.12062523483390411 [Z1 Z3] +\n",
       "-0.22343153690813433 [Z2] +\n",
       "0.17441287612261575 [Z2 Z3] +\n",
       "-0.22343153690813433 [Z3]"
      ]
     },
     "execution_count": 8,
     "metadata": {},
     "output_type": "execute_result"
    }
   ],
   "source": [
    "qubit_hamiltonian = jordan_wigner(molecule.get_molecular_hamiltonian())\n",
    "qubit_hamiltonian"
   ]
  },
  {
   "cell_type": "code",
   "execution_count": 9,
   "id": "99dc9300-86be-49f7-8150-772ea5c2e538",
   "metadata": {},
   "outputs": [],
   "source": [
    "def openfermion_pauli_extract(pauli_string):\n",
    "    qubits = [el[0] for el in pauli_string]\n",
    "    pauli_ops = [el[1] for el in pauli_string]\n",
    "    return qubits, pauli_ops\n",
    "\n",
    "\n",
    "def pauli_basis_change(qubits, pauli_ops):    \n",
    "    c = Circuit()\n",
    "    for qubit, pauli in zip(qubits, pauli_ops):\n",
    "        if pauli == \"X\":\n",
    "            c.push(GateH(), qubit)\n",
    "        elif pauli == \"Y\":\n",
    "            c.push(GateSDG(), qubit)\n",
    "            c.push(GateH(), qubit)\n",
    "\n",
    "    return c\n",
    "\n",
    "\n",
    "def cnot_ladder(qubits):\n",
    "    c = Circuit()\n",
    "    c.push(GateCX(), qubits[:-1], qubits[1:])\n",
    "    return c\n",
    "            \n",
    "\n",
    "def apply_controlled_pauli_rotation(c, pauli_string, coeff, time): # this version takes OpenFermion term as pauli_string\n",
    "    \"\"\"Applies a Controlled Pauli rotation e^(-i * coeff * time * P) using basis changes to ZZ...Z rotations\"\"\"\n",
    "    theta = 2 * coeff * time\n",
    "\n",
    "    qubits, pauli_ops = openfermion_pauli_extract(pauli_string)\n",
    "\n",
    "    if len(qubits) == 0:\n",
    "        return c\n",
    "\n",
    "    qubits = [q+1 for q in qubits]\n",
    "\n",
    "    cbasis = pauli_basis_change(qubits, pauli_ops)\n",
    "    c.append(cbasis)\n",
    "\n",
    "    cladder = cnot_ladder(qubits)\n",
    "    c.append(cladder)\n",
    "\n",
    "    c.push(GateCRZ(theta), 0, qubits[-1])\n",
    "\n",
    "    c.append(cladder.inverse())\n",
    "    c.append(cbasis.inverse())\n",
    "\n",
    "    return c\n",
    "\n",
    "def controlled_trotter(hamiltonian, trotter_steps, time=1.0):\n",
    "    \"\"\"Constructs a unitary using Trotterization for a given Hamiltonian.\"\"\"\n",
    "    deltat = time / trotter_steps\n",
    "    c = Circuit()\n",
    "    for _ in range(trotter_steps):\n",
    "        for term in hamiltonian.terms:\n",
    "            c = apply_controlled_pauli_rotation(c, term, hamiltonian.terms[term], deltat)\n",
    "    return c\n"
   ]
  },
  {
   "cell_type": "code",
   "execution_count": 10,
   "id": "ac09a7c6-113c-4845-93aa-ba27a8500a43",
   "metadata": {},
   "outputs": [],
   "source": [
    "def qpe_circuit(ncounting, chamiltonian):\n",
    "    counting = range(ncounting)\n",
    "    ndata = chamiltonian.num_qubits - 1\n",
    "    data = range(ncounting, ncounting + ndata)\n",
    "    \n",
    "    # initialization\n",
    "    c = Circuit()\n",
    "    c.push(GateH(), range(ncounting))\n",
    "\n",
    "    for i,j in enumerate(range(ncounting)):\n",
    "        power = 2**i\n",
    "        for _ in range(power):\n",
    "            c.push(chamiltonian, i, *data)\n",
    "\n",
    "    c.push(QFT(ncounting), *counting)\n",
    "\n",
    "    return c"
   ]
  },
  {
   "cell_type": "code",
   "execution_count": 11,
   "id": "5ff17c2b-af0e-487d-a9cc-80f3b0144d54",
   "metadata": {},
   "outputs": [],
   "source": [
    "trotter_steps = 1\n",
    "ncounting = 8\n",
    "trotter_parameter = 10\n",
    "\n",
    "@gatedecl(\"chamiltonian\")\n",
    "def controlled_hamiltonian():\n",
    "    return controlled_trotter(qubit_hamiltonian, trotter_steps,\n",
    "                              time = 1.0 / trotter_parameter)\n",
    "\n",
    "qpec = qpe_circuit(ncounting, controlled_hamiltonian())"
   ]
  },
  {
   "cell_type": "code",
   "execution_count": 12,
   "id": "2f16f06d-a26a-4092-8097-4c0608f7ab71",
   "metadata": {},
   "outputs": [
    {
     "data": {
      "text/plain": [
       "12-qubit circuit with 274 instructions:\n",
       "├── X @ q[8]\n",
       "├── X @ q[9]\n",
       "├── H @ q[0]\n",
       "├── H @ q[1]\n",
       "├── H @ q[2]\n",
       "├── H @ q[3]\n",
       "├── H @ q[4]\n",
       "├── H @ q[5]\n",
       "├── H @ q[6]\n",
       "├── H @ q[7]\n",
       "├── chamiltonian() @ q[0,8,9,10,11]\n",
       "├── chamiltonian() @ q[1,8,9,10,11]\n",
       "├── chamiltonian() @ q[1,8,9,10,11]\n",
       "├── chamiltonian() @ q[2,8,9,10,11]\n",
       "├── chamiltonian() @ q[2,8,9,10,11]\n",
       "├── chamiltonian() @ q[2,8,9,10,11]\n",
       "├── chamiltonian() @ q[2,8,9,10,11]\n",
       "├── chamiltonian() @ q[3,8,9,10,11]\n",
       "├── chamiltonian() @ q[3,8,9,10,11]\n",
       "⋮   ⋮\n",
       "└── M @ q[7], c[7]"
      ]
     },
     "execution_count": 12,
     "metadata": {},
     "output_type": "execute_result"
    }
   ],
   "source": [
    "nelectrons = 2\n",
    "\n",
    "finalc = Circuit()\n",
    "finalc.push(GateX(), range(ncounting, ncounting + nelectrons))\n",
    "finalc.append(qpec)\n",
    "finalc.push(Measure(), range(ncounting), range(ncounting))"
   ]
  },
  {
   "cell_type": "code",
   "execution_count": null,
   "id": "d5df2380-c7a2-4346-bff1-a6c9f778396b",
   "metadata": {},
   "outputs": [
    {
     "data": {
      "text/html": [
       "<table><tbody><tr><td colspan=2 style=\"text-align:center;\"><strong>QCSResults</strong></td></tr><tr><td colspan=2><hr></td></tr><tr><td colspan=2 style=\"text-align:center;\"><strong>Simulator</strong></td></tr><tr><td colspan=2 style=\"text-align:center;\">QLEO 0.1.22</td></tr><tr><td colspan=2><hr></td></tr><tr><td colspan=2 style=\"text-align:center;\"><strong>Timings</strong></td></tr><tr><td style=\"text-align:left;\">sample time</td><td>0.000160847s</td></tr><tr><td style=\"text-align:left;\">apply time</td><td>0.062414091s</td></tr><tr><td colspan=2><hr></td></tr><tr><td colspan=2></td></tr><tr><td colspan=2 style=\"text-align:center;\"><strong>Fidelity estimate</strong></td></tr><tr><td style=\"text-align:left;\">Single run value</td><td>1.0</td></tr><tr><td colspan=2><hr></td></tr><tr><td colspan=2></td></tr><tr><td colspan=2 style=\"text-align:center;\"><strong>Average multiqubit error estimate</strong></td></tr><tr><td style=\"text-align:left;\">Single run value</td><td>0.0</td></tr><tr><td colspan=2><hr></td></tr><tr><td colspan=2></td></tr><tr><td colspan=2 style=\"text-align:center;\"><strong>Statistics</strong></td></tr><tr><td style=\"text-align:left;\">Number of executions</td><td>1</td></tr><tr><td style=\"text-align:left;\">Number of samples</td><td>1000</td></tr><tr><td style=\"text-align:left;\">Number of amplitudes</td><td>0</td></tr><tr><td colspan=2><hr></td></tr><tr><td colspan=2></td></tr><tr><td colspan=2 style=\"text-align:center;\"><strong>Samples</strong></td></tr><tr><td style=\"text-align:left;font-family: monospace;\">0xcc</td><td style=\"text-align:left;font-family: monospace;\">11001100</td><td style=\"font-family: monospace;\">802</td></tr><tr><td style=\"text-align:left;font-family: monospace;\">0xbc</td><td style=\"text-align:left;font-family: monospace;\">10111100</td><td style=\"font-family: monospace;\">69</td></tr><tr><td style=\"text-align:left;font-family: monospace;\">0xdc</td><td style=\"text-align:left;font-family: monospace;\">11011100</td><td style=\"font-family: monospace;\">30</td></tr><tr><td style=\"text-align:left;font-family: monospace;\">0xec</td><td style=\"text-align:left;font-family: monospace;\">11101100</td><td style=\"font-family: monospace;\">17</td></tr><tr><td style=\"text-align:left;font-family: monospace;\">0xac</td><td style=\"text-align:left;font-family: monospace;\">10101100</td><td style=\"font-family: monospace;\">13</td></tr><tr><td style=\"text-align:left;font-family: monospace;\">0xc3</td><td style=\"text-align:left;font-family: monospace;\">11000011</td><td style=\"font-family: monospace;\">13</td></tr><tr><td style=\"text-align:left;font-family: monospace;\">0x9c</td><td style=\"text-align:left;font-family: monospace;\">10011100</td><td style=\"font-family: monospace;\">10</td></tr><tr><td style=\"text-align:left;font-family: monospace;\">0x23</td><td style=\"text-align:left;font-family: monospace;\">00100011</td><td style=\"font-family: monospace;\">6</td></tr><tr><td style=\"text-align:left;font-family: monospace;\">0x33</td><td style=\"text-align:left;font-family: monospace;\">00110011</td><td style=\"font-family: monospace;\">6</td></tr><tr><td style=\"text-align:left;font-family: monospace;\">0xc</td><td style=\"text-align:left;font-family: monospace;\">00001100</td><td style=\"font-family: monospace;\">5</td></tr><tr><td colspan=2><hr></td></tr></tbody></table>"
      ],
      "text/plain": [
       "QCSResults:\n",
       "├── simulator: QLEO 0.1.22\n",
       "├── timings:\n",
       "│    ├── sample time: 0.000160847s\n",
       "│    └── apply time: 0.062414091s\n",
       "├── fidelity estimate: 1\n",
       "├── average multi-qubit gate error estimate: 0\n",
       "├── most sampled:\n",
       "│    ├── bs\"11001100\" => 802\n",
       "│    ├── bs\"10111100\" => 69\n",
       "│    ├── bs\"11011100\" => 30\n",
       "│    ├── bs\"11101100\" => 17\n",
       "│    └── bs\"10101100\" => 13\n",
       "├── 1 executions\n",
       "├── 0 amplitudes\n",
       "└── 1000 samples"
      ]
     },
     "execution_count": 13,
     "metadata": {},
     "output_type": "execute_result"
    }
   ],
   "source": [
    "res = Quantanium().execute(finalc)\n",
    "res"
   ]
  },
  {
   "cell_type": "markdown",
   "id": "80559d2e-0775-4134-8f90-d8eeed6be6ae",
   "metadata": {},
   "source": [
    "# Analize data"
   ]
  },
  {
   "cell_type": "code",
   "execution_count": 14,
   "id": "a3e23a4e-508b-4e71-8661-4d2abf8790a9",
   "metadata": {},
   "outputs": [],
   "source": [
    "list_energies = []\n",
    "list_frequencies = []\n",
    "for bitstring in res.histogram().keys():\n",
    "    phase = 0\n",
    "    coef = 1\n",
    "    for bit in bitstring:\n",
    "        coef /= 2\n",
    "        phase += coef * bit\n",
    "    phase *= 2 * np.pi\n",
    "    if phase > np.pi:\n",
    "        phase -= 2 * np.pi\n",
    "    phase *= trotter_parameter\n",
    "    phase += qubit_hamiltonian.terms[()]\n",
    "    list_energies.append(phase)\n",
    "    list_frequencies.append(res.histogram()[bitstring] / sum(res.histogram().values()))"
   ]
  },
  {
   "cell_type": "code",
   "execution_count": 15,
   "id": "dad5d9ef-9555-457c-9274-6a19e9ff7381",
   "metadata": {},
   "outputs": [
    {
     "data": {
      "text/plain": [
       "Text(0.5, 1.0, 'H$_2$ from Hartree-Fock: STO-3G')"
      ]
     },
     "execution_count": 15,
     "metadata": {},
     "output_type": "execute_result"
    },
    {
     "data": {
      "image/png": "[encoded data removed]",
      "text/plain": [
       "<Figure size 640x480 with 1 Axes>"
      ]
     },
     "metadata": {},
     "output_type": "display_data"
    }
   ],
   "source": [
    "plt.scatter(list_energies, list_frequencies, label=\"QPE results\")\n",
    "plt.vlines(x=molecule.fci_energy, ymin=0, ymax=1, colors='green', label=r'$E_{FCI}$')\n",
    "plt.xlabel(\"Energies computed\")\n",
    "plt.ylabel(\"Frequency of obtaining (out of \" + str(sum(res.histogram().values())) + \" samples)\")\n",
    "plt.legend()\n",
    "plt.title(r\"H$_2$ from Hartree-Fock: STO-3G\")"
   ]
  },
  {
   "cell_type": "code",
   "execution_count": null,
   "id": "6e0f467d-c20c-4545-ac48-d7ea86dc0adb",
   "metadata": {},
   "outputs": [],
   "source": []
  }
 ],
 "metadata": {
  "kernelspec": {
   "display_name": "quanta",
   "language": "python",
   "name": "python3"
  },
  "language_info": {
   "codemirror_mode": {
    "name": "ipython",
    "version": 3
   },
   "file_extension": ".py",
   "mimetype": "text/x-python",
   "name": "python",
   "nbconvert_exporter": "python",
   "pygments_lexer": "ipython3",
   "version": "3.12.8"
  }
 },
 "nbformat": 4,
 "nbformat_minor": 5
}
