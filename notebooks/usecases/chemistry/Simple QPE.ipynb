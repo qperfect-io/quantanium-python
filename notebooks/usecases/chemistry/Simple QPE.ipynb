{
 "cells": [
  {
   "cell_type": "code",
   "execution_count": 1,
   "id": "fccc1efc-2a76-410b-8dfa-f3bda5686eb0",
   "metadata": {},
   "outputs": [],
   "source": [
    "from qleo import *\n",
    "import numpy as np"
   ]
  },
  {
   "cell_type": "markdown",
   "id": "9eea5012-d733-41fa-bfe6-aa0e3eb0cd98",
   "metadata": {},
   "source": [
    "# Simple QPE Example\n",
    "\n",
    "The quantum phase estimation algorithm is an important subroutine of many more complex quantum algorithm.\n",
    "\n",
    "The QPE algorithm finds the eigenvalue of a unitary operator U such that $U |v⟩ = e2^{πiθ} |v⟩$ where $0 ≤ θ ≤ 1$ and\n",
    "$|v⟩$ is an eigenvector of $U$ .\n",
    "\n",
    "It uses two distinct registers of qubits, respectively of n and m qubits each.\n",
    "\n",
    "![QPE Circuit](https://upload.wikimedia.org/wikipedia/commons/b/b4/PhaseCircuit.svg \"Title\")"
   ]
  },
  {
   "cell_type": "code",
   "execution_count": 2,
   "id": "9800eb24-409d-4023-86fc-8eb237ab4090",
   "metadata": {},
   "outputs": [],
   "source": [
    "phi = 1/3\n",
    "n = 14\n",
    "m = 1"
   ]
  },
  {
   "cell_type": "markdown",
   "id": "c2c5ba1c-d2f6-4fee-aad8-2807e80fd556",
   "metadata": {},
   "source": [
    "## Initialize qubits\n",
    "\n",
    "$$\\ket{0}_1\\ket{\\psi}_2 \\rightarrow \\frac{1}{\\sqrt{2^n}} (\\ket{0}_1 + \\ket{1}_1)^{\\otimes n} \\ket{\\psi}_2$$\n",
    "\n",
    "$$\\ket{\\phi} = \\ket{1}$$"
   ]
  },
  {
   "cell_type": "code",
   "execution_count": 3,
   "id": "292882b8-3f88-40f6-ab84-406e019ed44b",
   "metadata": {},
   "outputs": [],
   "source": [
    "mqubits = range(n,n+m)\n",
    "nqubits = range(n)"
   ]
  },
  {
   "cell_type": "code",
   "execution_count": 4,
   "id": "35bc105b-58c6-4380-8d91-55f12e2eb911",
   "metadata": {},
   "outputs": [
    {
     "data": {
      "text/plain": [
       "15-qubit circuit with 15 instructions:\n",
       "├── H @ q[0]\n",
       "├── H @ q[1]\n",
       "├── H @ q[2]\n",
       "├── H @ q[3]\n",
       "├── H @ q[4]\n",
       "├── H @ q[5]\n",
       "├── H @ q[6]\n",
       "├── H @ q[7]\n",
       "├── H @ q[8]\n",
       "├── H @ q[9]\n",
       "├── H @ q[10]\n",
       "├── H @ q[11]\n",
       "├── H @ q[12]\n",
       "├── H @ q[13]\n",
       "└── X @ q[14]"
      ]
     },
     "execution_count": 4,
     "metadata": {},
     "output_type": "execute_result"
    }
   ],
   "source": [
    "c = Circuit()\n",
    "\n",
    "c.push(GateH(), nqubits)\n",
    "c.push(GateX(), mqubits)"
   ]
  },
  {
   "cell_type": "markdown",
   "id": "4c2ec0f6-56c3-4602-b868-13f84bdbc142",
   "metadata": {},
   "source": [
    "## Apply controlled operation\n",
    "\n",
    "$$\\rightarrow \\frac{1}{\\sqrt{2^n}} \\sum_{k=0}^{2^n - 1} \\mathrm{e}^{2\\pi\\imath \\phi k} \\ket{k}_1 \\otimes \\ket{\\psi}_2$$"
   ]
  },
  {
   "cell_type": "code",
   "execution_count": 5,
   "id": "fd831aa0-f2ea-4acb-bd3d-9823665dd653",
   "metadata": {},
   "outputs": [
    {
     "data": {
      "text/plain": [
       "15-qubit circuit with 29 instructions:\n",
       "├── H @ q[0]\n",
       "├── H @ q[1]\n",
       "├── H @ q[2]\n",
       "├── H @ q[3]\n",
       "├── H @ q[4]\n",
       "├── H @ q[5]\n",
       "├── H @ q[6]\n",
       "├── H @ q[7]\n",
       "├── H @ q[8]\n",
       "├── H @ q[9]\n",
       "├── H @ q[10]\n",
       "├── H @ q[11]\n",
       "├── H @ q[12]\n",
       "├── H @ q[13]\n",
       "├── X @ q[14]\n",
       "├── CP(8.377580409572781) @ q[13], q[14]\n",
       "├── CP(10.471975511965976) @ q[12], q[14]\n",
       "├── CP(8.377580409572781) @ q[11], q[14]\n",
       "├── CP(10.471975511965976) @ q[10], q[14]\n",
       "⋮   ⋮\n",
       "└── CP(10.471975511965026) @ q[0], q[14]"
      ]
     },
     "execution_count": 5,
     "metadata": {},
     "output_type": "execute_result"
    }
   ],
   "source": [
    "for (i,j) in enumerate(reversed(nqubits)):\n",
    "    angle = 2*np.pi*(np.mod(phi*(2**i),1)+1)\n",
    "    c.push(GateCP(angle), j, mqubits)\n",
    "\n",
    "c"
   ]
  },
  {
   "cell_type": "markdown",
   "id": "8a1f5e4b-5e3f-44de-a322-900dfb088d40",
   "metadata": {},
   "source": [
    "## Inverse QFT\n",
    "\n",
    "$$\\rightarrow \\frac{1}{2^n} \\sum_{x=0}^{2^n-1}\\sum_{k=0}^{2^n-1} \\mathrm{e}^{-\\frac{2\\pi i k}{2^n} (x - 2^n \\phi)} \\ket{x} \\otimes \\ket{\\psi}$$"
   ]
  },
  {
   "cell_type": "code",
   "execution_count": 6,
   "id": "f36d8cd9-5a31-4694-8ce3-6909b370be21",
   "metadata": {},
   "outputs": [
    {
     "data": {
      "text/plain": [
       "15-qubit circuit with 30 instructions:\n",
       "├── H @ q[0]\n",
       "├── H @ q[1]\n",
       "├── H @ q[2]\n",
       "├── H @ q[3]\n",
       "├── H @ q[4]\n",
       "├── H @ q[5]\n",
       "├── H @ q[6]\n",
       "├── H @ q[7]\n",
       "├── H @ q[8]\n",
       "├── H @ q[9]\n",
       "├── H @ q[10]\n",
       "├── H @ q[11]\n",
       "├── H @ q[12]\n",
       "├── H @ q[13]\n",
       "├── X @ q[14]\n",
       "├── CP(8.377580409572781) @ q[13], q[14]\n",
       "├── CP(10.471975511965976) @ q[12], q[14]\n",
       "├── CP(8.377580409572781) @ q[11], q[14]\n",
       "├── CP(10.471975511965976) @ q[10], q[14]\n",
       "⋮   ⋮\n",
       "└── QFT† @ q[0,1,2,3,4,5,6,7,8,9,10,11,12,13]"
      ]
     },
     "execution_count": 6,
     "metadata": {},
     "output_type": "execute_result"
    }
   ],
   "source": [
    "c.push(QFT(n).inverse(), *nqubits)\n",
    "\n",
    "c"
   ]
  },
  {
   "cell_type": "markdown",
   "id": "62722d5a-0ac8-453d-ba27-e45247ef99f9",
   "metadata": {},
   "source": [
    "## Measure first register\n",
    "\n",
    "$$\\rightarrow \\ket{2^n\\phi} \\otimes \\ket{\\psi}$$"
   ]
  },
  {
   "cell_type": "code",
   "execution_count": 7,
   "id": "a72f0ea0-2836-4524-aee7-1bf0834c9f13",
   "metadata": {},
   "outputs": [
    {
     "data": {
      "text/plain": [
       "15-qubit circuit with 44 instructions:\n",
       "├── H @ q[0]\n",
       "├── H @ q[1]\n",
       "├── H @ q[2]\n",
       "├── H @ q[3]\n",
       "├── H @ q[4]\n",
       "├── H @ q[5]\n",
       "├── H @ q[6]\n",
       "├── H @ q[7]\n",
       "├── H @ q[8]\n",
       "├── H @ q[9]\n",
       "├── H @ q[10]\n",
       "├── H @ q[11]\n",
       "├── H @ q[12]\n",
       "├── H @ q[13]\n",
       "├── X @ q[14]\n",
       "├── CP(8.377580409572781) @ q[13], q[14]\n",
       "├── CP(10.471975511965976) @ q[12], q[14]\n",
       "├── CP(8.377580409572781) @ q[11], q[14]\n",
       "├── CP(10.471975511965976) @ q[10], q[14]\n",
       "⋮   ⋮\n",
       "└── M @ q[13], c[13]"
      ]
     },
     "execution_count": 7,
     "metadata": {},
     "output_type": "execute_result"
    }
   ],
   "source": [
    "c.push(Measure(), nqubits, range(n))\n",
    "c"
   ]
  },
  {
   "cell_type": "markdown",
   "id": "61b29b08-0447-4a9d-a7a9-7183d2834a19",
   "metadata": {},
   "source": [
    "## Execute the circuit"
   ]
  },
  {
   "cell_type": "code",
   "execution_count": 8,
   "id": "2e1ed19d-c6b8-4c58-a0be-2be0a9902c95",
   "metadata": {},
   "outputs": [
    {
     "data": {
      "text/html": [
       "<table><tbody><tr><td colspan=2 style=\"text-align:center;\"><strong>QCSResults</strong></td></tr><tr><td colspan=2><hr></td></tr><tr><td colspan=2 style=\"text-align:center;\"><strong>Simulator</strong></td></tr><tr><td colspan=2 style=\"text-align:center;\">QLEO 0.1.22</td></tr><tr><td colspan=2><hr></td></tr><tr><td colspan=2 style=\"text-align:center;\"><strong>Timings</strong></td></tr><tr><td style=\"text-align:left;\">sample time</td><td>0.00046794s</td></tr><tr><td style=\"text-align:left;\">apply time</td><td>0.005080854s</td></tr><tr><td colspan=2><hr></td></tr><tr><td colspan=2></td></tr><tr><td colspan=2 style=\"text-align:center;\"><strong>Fidelity estimate</strong></td></tr><tr><td style=\"text-align:left;\">Single run value</td><td>1.0</td></tr><tr><td colspan=2><hr></td></tr><tr><td colspan=2></td></tr><tr><td colspan=2 style=\"text-align:center;\"><strong>Average multiqubit error estimate</strong></td></tr><tr><td style=\"text-align:left;\">Single run value</td><td>0.0</td></tr><tr><td colspan=2><hr></td></tr><tr><td colspan=2></td></tr><tr><td colspan=2 style=\"text-align:center;\"><strong>Statistics</strong></td></tr><tr><td style=\"text-align:left;\">Number of executions</td><td>1</td></tr><tr><td style=\"text-align:left;\">Number of samples</td><td>1000</td></tr><tr><td style=\"text-align:left;\">Number of amplitudes</td><td>0</td></tr><tr><td colspan=2><hr></td></tr><tr><td colspan=2></td></tr><tr><td colspan=2 style=\"text-align:center;\"><strong>Samples</strong></td></tr><tr><td style=\"text-align:left;font-family: monospace;\">0x2aaa</td><td style=\"text-align:left;font-family: monospace;\">10101010101010</td><td style=\"font-family: monospace;\">684</td></tr><tr><td style=\"text-align:left;font-family: monospace;\">0x3555</td><td style=\"text-align:left;font-family: monospace;\">11010101010101</td><td style=\"font-family: monospace;\">165</td></tr><tr><td style=\"text-align:left;font-family: monospace;\">0x1555</td><td style=\"text-align:left;font-family: monospace;\">01010101010101</td><td style=\"font-family: monospace;\">49</td></tr><tr><td style=\"text-align:left;font-family: monospace;\">0x3aaa</td><td style=\"text-align:left;font-family: monospace;\">11101010101010</td><td style=\"font-family: monospace;\">31</td></tr><tr><td style=\"text-align:left;font-family: monospace;\">0xd55</td><td style=\"text-align:left;font-family: monospace;\">00110101010101</td><td style=\"font-family: monospace;\">12</td></tr><tr><td style=\"text-align:left;font-family: monospace;\">0x32aa</td><td style=\"text-align:left;font-family: monospace;\">11001010101010</td><td style=\"font-family: monospace;\">12</td></tr><tr><td style=\"text-align:left;font-family: monospace;\">0x22aa</td><td style=\"text-align:left;font-family: monospace;\">10001010101010</td><td style=\"font-family: monospace;\">4</td></tr><tr><td style=\"text-align:left;font-family: monospace;\">0x555</td><td style=\"text-align:left;font-family: monospace;\">00010101010101</td><td style=\"font-family: monospace;\">4</td></tr><tr><td style=\"text-align:left;font-family: monospace;\">0x2d55</td><td style=\"text-align:left;font-family: monospace;\">10110101010101</td><td style=\"font-family: monospace;\">4</td></tr><tr><td style=\"text-align:left;font-family: monospace;\">0x3955</td><td style=\"text-align:left;font-family: monospace;\">11100101010101</td><td style=\"font-family: monospace;\">4</td></tr><tr><td colspan=2><hr></td></tr></tbody></table>"
      ],
      "text/plain": [
       "QCSResults:\n",
       "├── simulator: QLEO 0.1.22\n",
       "├── timings:\n",
       "│    ├── sample time: 0.00046794s\n",
       "│    └── apply time: 0.005080854s\n",
       "├── fidelity estimate: 1\n",
       "├── average multi-qubit gate error estimate: 0\n",
       "├── most sampled:\n",
       "│    ├── bs\"10101010101010\" => 684\n",
       "│    ├── bs\"11010101010101\" => 165\n",
       "│    ├── bs\"01010101010101\" => 49\n",
       "│    ├── bs\"11101010101010\" => 31\n",
       "│    └── bs\"00110101010101\" => 12\n",
       "├── 1 executions\n",
       "├── 0 amplitudes\n",
       "└── 1000 samples"
      ]
     },
     "execution_count": 8,
     "metadata": {},
     "output_type": "execute_result"
    }
   ],
   "source": [
    "res = Qleo().execute(c)\n",
    "res"
   ]
  },
  {
   "cell_type": "markdown",
   "id": "6b1cc436-3cfa-4531-83e6-d7f2529eec70",
   "metadata": {},
   "source": [
    "# Estimate the Phase"
   ]
  },
  {
   "cell_type": "code",
   "execution_count": 9,
   "id": "27c6d54d-f520-458e-aa3f-8ca3d51b363f",
   "metadata": {},
   "outputs": [
    {
     "name": "stdout",
     "output_type": "stream",
     "text": [
      "Most frequent bit string is :  10101010101010\n",
      "With  684  occurances\n",
      "\n",
      "The estimated phase is:  0.33331298828125\n",
      "The actual phase is:  0.3333333333333333\n"
     ]
    }
   ],
   "source": [
    "hist = res.histogram()\n",
    "maxvector = max(hist, key=hist.get)\n",
    "\n",
    "print(\"Most frequent bit string is : \", maxvector.to01())\n",
    "print(\"With \", hist[maxvector], \" occurances\")\n",
    "\n",
    "# convert bitvector of the counting register to an integer value\n",
    "int_value = int(maxvector.to01()[::-1],base=2)\n",
    "\n",
    "est_phase = int_value/2**n # convert to phase\n",
    "\n",
    "print(\"\\nThe estimated phase is: \", est_phase)\n",
    "print(\"The actual phase is: \", phi)"
   ]
  }
 ],
 "metadata": {
  "kernelspec": {
   "display_name": "quobly_env",
   "language": "python",
   "name": "python3"
  },
  "language_info": {
   "codemirror_mode": {
    "name": "ipython",
    "version": 3
   },
   "file_extension": ".py",
   "mimetype": "text/x-python",
   "name": "python",
   "nbconvert_exporter": "python",
   "pygments_lexer": "ipython3",
   "version": "3.12.8"
  }
 },
 "nbformat": 4,
 "nbformat_minor": 5
}
