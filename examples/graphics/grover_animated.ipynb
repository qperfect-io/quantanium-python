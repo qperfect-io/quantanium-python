{
 "cells": [
  {
   "cell_type": "markdown",
   "id": "cf670460",
   "metadata": {},
   "source": [
    "# Probability distribution animation generator\n",
    "\n",
    "To explain how an algorithm works it is sometimes usefull to see how the probability of getting some results evolve.\n",
    "Quantanium comes with a function to generate an animation showing the evolution of the probability distribution of each result."
   ]
  },
  {
   "cell_type": "markdown",
   "id": "45668cc1",
   "metadata": {},
   "source": [
    "### Import the animation generator"
   ]
  },
  {
   "cell_type": "code",
   "execution_count": 1,
   "id": "a465af73",
   "metadata": {},
   "outputs": [],
   "source": [
    "from quantanium import *\n",
    "from mimiqcircuits import *\n",
    "from quantanium.visualization import generate_animation\n",
    "\n",
    "\n",
    "import numpy as np\n",
    "# the following module is only used to display videos in the notebook\n",
    "from IPython.display import Video"
   ]
  },
  {
   "cell_type": "markdown",
   "id": "414b132c",
   "metadata": {},
   "source": [
    "### GHZ Animated\n",
    "\n",
    "The generate_animation can be used to generate an animation out of any basic circuit built with the framework.\n",
    "\n",
    "Let's start by writing a function to generate a GHZ state."
   ]
  },
  {
   "cell_type": "code",
   "execution_count": 2,
   "id": "a1fbff94",
   "metadata": {},
   "outputs": [],
   "source": [
    "def ghz_circ(qubits):\n",
    "    ghz = Circuit()\n",
    "    ghz.push(GateH(), 0)\n",
    "    ghz.push(GateCX(), 0, range(1, qubits))\n",
    "    return ghz"
   ]
  },
  {
   "cell_type": "markdown",
   "id": "c8dd1cd6",
   "metadata": {},
   "source": [
    "To generate the animation you simply call the generate_animation function and give it a circuit."
   ]
  },
  {
   "cell_type": "code",
   "execution_count": 3,
   "id": "5df810f7",
   "metadata": {},
   "outputs": [
    {
     "name": "stdout",
     "output_type": "stream",
     "text": [
      "Generating frames for instruction: 4/4\n",
      "Video saved in videos/ghz4_animation.mp4\n"
     ]
    },
    {
     "data": {
      "text/html": [
       "<video src=\"videos/ghz4_animation.mp4\" controls  >\n",
       "      Your browser does not support the <code>video</code> element.\n",
       "    </video>"
      ],
      "text/plain": [
       "<IPython.core.display.Video object>"
      ]
     },
     "execution_count": 3,
     "metadata": {},
     "output_type": "execute_result"
    }
   ],
   "source": [
    "qubits = 4\n",
    "video_name = f\"videos/ghz{qubits}_animation.mp4\"\n",
    "\n",
    "# Generate the circuit\n",
    "circuit = ghz_circ(qubits)\n",
    "\n",
    "# Generate the Video\n",
    "generate_animation(circuit, file_name=video_name)\n",
    "Video(video_name)"
   ]
  },
  {
   "cell_type": "markdown",
   "id": "d44dd6f8",
   "metadata": {},
   "source": [
    "In the example above you can see all the states on the y axis and the probability to callapse on any y state if all qubits are measured.\n",
    "\n",
    "If you want to use a circuit of more than 5 qubits the animation will automatically group together all subsequent states that have the same value.\n",
    "\n",
    "For Instance GHZ 15 generates the following:"
   ]
  },
  {
   "cell_type": "code",
   "execution_count": 4,
   "id": "24961eec",
   "metadata": {},
   "outputs": [
    {
     "name": "stdout",
     "output_type": "stream",
     "text": [
      "Generating frames for instruction: 15/15\n",
      "Video saved in videos/ghz15_animation.mp4\n"
     ]
    },
    {
     "data": {
      "text/html": [
       "<video src=\"videos/ghz15_animation.mp4\" controls  >\n",
       "      Your browser does not support the <code>video</code> element.\n",
       "    </video>"
      ],
      "text/plain": [
       "<IPython.core.display.Video object>"
      ]
     },
     "execution_count": 4,
     "metadata": {},
     "output_type": "execute_result"
    }
   ],
   "source": [
    "qubits = 15\n",
    "video_name = f\"videos/ghz{qubits}_animation.mp4\"\n",
    "circuit = ghz_circ(qubits)\n",
    "generate_animation(circuit, file_name=video_name)\n",
    "Video(video_name)"
   ]
  },
  {
   "cell_type": "markdown",
   "id": "0e4116c7",
   "metadata": {},
   "source": [
    "In the example above on the first frame of the video all the states from 000...01 to 111....1 have the same probability of 0, therefore, they are being represented with one singular bar on the graph, meaning that all the bars have the same probability of 0 and that the sum of all the bars is equal to 0"
   ]
  },
  {
   "cell_type": "markdown",
   "id": "116c0d45",
   "metadata": {},
   "source": [
    "## Let's see a more complex example with Grover Animated\n",
    "\n",
    "Grover is a much more complex algorithm than GHZ and needs to apply many more instructions to hold results, it is not reasonable to generate an animation showing every instruction making evolve the probability distribution.\n",
    "\n",
    "In the case of grover you may want to show the evolution of the probability distribution after each grover iteration instead of each instruction.\n",
    "\n",
    "Here is an example on how to generate such an animation:"
   ]
  },
  {
   "cell_type": "markdown",
   "id": "691e4905",
   "metadata": {},
   "source": [
    "### Setting up the animation arguments\n",
    "\n",
    "We start by generating two empty list:\n",
    "\n",
    "animation_step will be used to indicate after what instruction to generate  a new step in the animation. For example if I have a circuit of 200 instructions and I give the list [1, 50, 120] the animation will only generates the evolution between the 1st and 50th instructions then between the 50th and 120th instructions\n",
    "\n",
    "animation_titles must be of the same length as animation_step, it will be used to display a title above the graph between each step"
   ]
  },
  {
   "cell_type": "code",
   "execution_count": 5,
   "id": "5b78b37d",
   "metadata": {
    "collapsed": true
   },
   "outputs": [],
   "source": [
    "animation_steps = []\n",
    "animation_titles = []"
   ]
  },
  {
   "cell_type": "markdown",
   "id": "5119a97b",
   "metadata": {},
   "source": [
    "Next we can define Grover's algorithm. for more details on this grover implementation please take a look at [this notebook](https://github.com/qperfect-io/QleoNotebooks/blob/main/usecases/cybersecurity/grover.ipynb).\n",
    "\n",
    "Note how we update the animation_step and animation_titles after each grover iteration"
   ]
  },
  {
   "cell_type": "code",
   "execution_count": 6,
   "id": "595a8907",
   "metadata": {},
   "outputs": [],
   "source": [
    "def grover(iterations, oracle_circ):\n",
    "    \"\"\"\n",
    "    MIMIQ circuit for Grover's algorithm.\n",
    "    \n",
    "    Args:\n",
    "    iterations (int): Number of Grover iterations.\n",
    "    oracle_circ (Circuit): Oracle circuit.\n",
    "    \n",
    "    Returns:\n",
    "    Circuit: The Grover's algorithm quantum circuit.\n",
    "    \"\"\"\n",
    "    nq = oracle_circ.num_qubits()\n",
    "    circ = Circuit()\n",
    "    \n",
    "    # Create the uniform superposition state\n",
    "    circ.push(GateH(), range(nq))\n",
    "\n",
    "    #### For stepping animation\n",
    "    global animation_steps\n",
    "    global animation_titles\n",
    "\n",
    "    animation_steps.append(len(circ) - 1)  # !!!!!!!! First step of the animation after applying the Hadamards\n",
    "    animation_titles.append(\"Initial Uniform state\")\n",
    "    \n",
    "    for i in range(iterations):\n",
    "            \n",
    "        # Apply the oracle operator\n",
    "        circ.append(oracle_circ)\n",
    "        \n",
    "        # Apply the diffusion operator\n",
    "        circ.push(Diffusion(nq), *range(nq))\n",
    "\n",
    "        ##### For stepping animation\n",
    "        animation_steps.append(len(circ) - 1) # !!!!!!!!!!!!!!! New step for the animation after each grover iteration\n",
    "        animation_titles.append(f\"Grover iteration {i + 1}\")\n",
    "    return circ"
   ]
  },
  {
   "cell_type": "markdown",
   "id": "283e2cb4",
   "metadata": {},
   "source": [
    "We define a very simple oracle for Grover"
   ]
  },
  {
   "cell_type": "code",
   "execution_count": 7,
   "id": "855b322c",
   "metadata": {},
   "outputs": [],
   "source": [
    "def oracle(bitstring):\n",
    "    \"\"\"\n",
    "    Create an oracle circuit that flips the phase of a desired bitstring.\n",
    "    \n",
    "    Args:\n",
    "    bitstring: Target bitstring to mark.\n",
    "    \n",
    "    Returns:\n",
    "    Circuit: Oracle circuit that marks the target state.\n",
    "    \"\"\"\n",
    "    nq = len(bitstring)\n",
    "    circ = Circuit()\n",
    "\n",
    "    # Apply X gates where bits are 0\n",
    "    for i, b in enumerate(bitstring):\n",
    "        if not b:\n",
    "            circ.push(GateX(), i)\n",
    "\n",
    "    # Multi-controlled Z gate\n",
    "    circ.push(control(nq-1, GateZ()), *range(nq))\n",
    "\n",
    "    # Uncompute X gates\n",
    "    for i, b in enumerate(bitstring):\n",
    "        if not b:\n",
    "            circ.push(GateX(),i)\n",
    "            \n",
    "    return circ"
   ]
  },
  {
   "cell_type": "markdown",
   "id": "6c5b6edf",
   "metadata": {},
   "source": [
    "We are now going to generate the animation.\n",
    "\n",
    "For this example of grover we are only interested in one single state defined in the code block just below, for this reason we are going to ask the simulation to focus on this state specifically.\n",
    "\n",
    "We are also going to give the animation_steps and titles argument to only show the grover iterations steps and not every sngle instruction in the circuit"
   ]
  },
  {
   "cell_type": "code",
   "execution_count": 8,
   "id": "0bbf8231",
   "metadata": {},
   "outputs": [
    {
     "name": "stdout",
     "output_type": "stream",
     "text": [
      "Generating frames for step: 1/8\r"
     ]
    },
    {
     "name": "stdout",
     "output_type": "stream",
     "text": [
      "Generating frames for step: 8/8\n",
      "Video saved in videos/grover_animation.mp4\n"
     ]
    },
    {
     "data": {
      "text/html": [
       "<video src=\"videos/grover_animation.mp4\" controls  >\n",
       "      Your browser does not support the <code>video</code> element.\n",
       "    </video>"
      ],
      "text/plain": [
       "<IPython.core.display.Video object>"
      ]
     },
     "execution_count": 8,
     "metadata": {},
     "output_type": "execute_result"
    }
   ],
   "source": [
    "# define parameters\n",
    "targetstr = BitString([1, 0, 1, 0, 1, 0])\n",
    "maxiter=7\n",
    "n = len(targetstr)\n",
    "\n",
    "\n",
    "# Just to be sure let's reinitialize the animation's arguments before calling the grover function\n",
    "animation_steps = []\n",
    "animation_titles = []\n",
    "\n",
    "\n",
    "# generate circuits and fills animation_steps/titles\n",
    "circuit = grover(maxiter, oracle(targetstr))\n",
    "\n",
    "# make sure this is the same as targetstr\n",
    "targets = [\"101010\"]\n",
    "\n",
    "# generate the simulation\n",
    "video_name = \"videos/grover_animation.mp4\"\n",
    "generate_animation(circuit, file_name=video_name, animation_steps=animation_steps, plot_titles=animation_titles, target_states=targets)\n",
    "Video(video_name)"
   ]
  },
  {
   "cell_type": "markdown",
   "id": "9a10cabd",
   "metadata": {},
   "source": [
    "### An even more complex example: Grover for RSA animated\n",
    "\n",
    "In [this notebook](https://github.com/qperfect-io/QleoNotebooks/blob/main/usecases/cybersecurity/grover.ipynb) we also describe how to implement grover to solve an RSA factorization problem.\n",
    "Using the same exact logic and by tweaking a few parameters our animation generator can scale perfectly and can offer great support for explanations of the algorithm. "
   ]
  },
  {
   "cell_type": "markdown",
   "id": "d32c7af6",
   "metadata": {},
   "source": [
    "### Implementing Grover for RSA\n",
    "\n",
    "We start by defining some usefull functions for the oracle"
   ]
  },
  {
   "cell_type": "code",
   "execution_count": 9,
   "id": "456bfc1c",
   "metadata": {},
   "outputs": [],
   "source": [
    "def PhiMultiply(X, Y, Z):\n",
    "    \"\"\"\n",
    "    Acts on three registers to perform the transformation \n",
    "    |x,y,z> -> |x,y,z+x*y> in Fourier space\n",
    "    \"\"\"\n",
    "    circ = Circuit()\n",
    "    nx, ny, nz = len(X), len(Y), len(Z)\n",
    "    \n",
    "    # multiplication x*y \n",
    "    for j in range(nx):\n",
    "        for i in range(ny):\n",
    "            for k in range(i+j, nz):\n",
    "                angle = 2*np.pi / 2.0**(k - j - i + 1)\n",
    "                if angle % (2*np.pi) != 0:  # do nothing if angle is multiple of 2pi\n",
    "                    ctr1, ctr2, target = X[j], Y[i], Z[k]\n",
    "                    circ.push(Control(2,GateP(angle)), ctr1, ctr2, target)\n",
    "    return circ\n",
    "\n",
    "def Multiply(X, Y, Z):\n",
    "    \"\"\"\n",
    "    Performs the operation |x,y,z> -> |x,y,z+xy>\n",
    "    \"\"\"\n",
    "    circ = Circuit()\n",
    "    nx, ny, nz = len(X), len(Y), len(Z)\n",
    "\n",
    "    circ.push(QFT(nz), *Z)\n",
    "    circ.append(PhiMultiply(X, Y, Z))\n",
    "    circ.push(inverse(QFT(nz)), *Z)\n",
    "    \n",
    "    return circ"
   ]
  },
  {
   "cell_type": "markdown",
   "id": "219129a7",
   "metadata": {},
   "source": [
    "We now define Grover and update the animation parameters after each iteration"
   ]
  },
  {
   "cell_type": "code",
   "execution_count": 10,
   "id": "398cf743",
   "metadata": {},
   "outputs": [],
   "source": [
    "def factorize(N: int, K: int, nx: int, ny: int):\n",
    "    # prepare registers\n",
    "    nz = nx + ny + 1\n",
    "    X = list(range(0, nx))\n",
    "    Y = list(range(nx, nx + ny))\n",
    "    Z = list(range(nx + ny, nx + ny + nz))\n",
    "\n",
    "    \n",
    "    Nj = [int(b) for b in bin(N)[2:][::-1]]  # binary digits of N, least significant first\n",
    "\n",
    "    print(Nj)\n",
    "\n",
    "    # initialize\n",
    "    circ = Circuit()\n",
    "    \n",
    "    circ.push(GateH(), X + Y)\n",
    "    for j, b in enumerate(Nj):\n",
    "        if b == 1:\n",
    "            circ.push(GateX(), Z[j])\n",
    "\n",
    "    #### For stepping animation\n",
    "    global animation_steps\n",
    "    global animation_titles\n",
    "    \n",
    "    animation_steps.append(len(circ) - 1)# !!!!!!!!!!!!!!! First step for the animation for the initial setup state  \n",
    "    animation_titles.append(f\"X, Y uniform state and N encoding\")\n",
    "    \n",
    "    # Grover loop\n",
    "    for k in range(K):\n",
    "        # Oracle\n",
    "        #circ.push(PolynomialOracle(nx+ny, nz, 1,0,0,0), *(X+Y+Z))\n",
    "        circ.append(inverse(Multiply(X, Y, Z)))\n",
    "        circ.push(GateX(), Z)\n",
    "        circ.push(Control(nz-1, GateZ()), *Z)\n",
    "        circ.push(GateX(), Z)\n",
    "        circ.append(Multiply(X, Y, Z))\n",
    "\n",
    "        # Diffusion\n",
    "        circ.push(Diffusion(nx+ny), *(X+Y))\n",
    "\n",
    "\n",
    "        ### For stepping animatiom\n",
    "        animation_steps.append(len(circ) - 1) # !!!!!!!!!!!!!!! New step for the animation after each grover iteration\n",
    "        animation_titles.append(f\"Grover iteration {k + 1}\")\n",
    "        \n",
    "    circ.push(Measure(),X,X)\n",
    "    return circ"
   ]
  },
  {
   "cell_type": "code",
   "execution_count": 11,
   "id": "233e8945",
   "metadata": {},
   "outputs": [],
   "source": [
    "# Here are the parameters used to generate the circuit\n",
    "N = 143 # 13 * 11\n",
    "\n",
    "nx, ny = 4,4\n",
    "iterations = 8"
   ]
  },
  {
   "cell_type": "markdown",
   "id": "5e804eac",
   "metadata": {},
   "source": [
    "For the clarity of the animation we are going to modify slightly how the y axis looks.\n",
    "In this circuit:\n",
    " The first nx qubits encode the value X\n",
    " The following ny qubits emcode the value Y\n",
    " All the following qubits encode the value Z\n",
    "\n",
    "We are going to provide the animation generator a way to convert a bit string to the interpretation X = x, Y = y, Z = z with the following function:"
   ]
  },
  {
   "cell_type": "code",
   "execution_count": 12,
   "id": "b9343c2a",
   "metadata": {},
   "outputs": [],
   "source": [
    "def bitstr_to_xy(bitstr):\n",
    "    \"\"\"converts a bit string to some other string interpretation\n",
    "\n",
    "    Args:\n",
    "        bitstr (str): a string containing 0s and 1s\n",
    "\n",
    "    Returns:\n",
    "        str: A new string used in the y axis of the animation\n",
    "    \"\"\"\n",
    "    return f\"X:{int(bitstr[:nx], 2)} Y:{int(bitstr[nx:(nx+ny)], 2)} N:{int(bitstr[(nx+ny):][::-1], 2)}\\n\" + bitstr\n",
    "        # bitstr[:nx] + \" \" + bitstr[nx:(nx+ny)] + \" \" + bitstr[(nx+ny):]"
   ]
  },
  {
   "cell_type": "code",
   "execution_count": 13,
   "id": "1d12cde5",
   "metadata": {},
   "outputs": [
    {
     "name": "stdout",
     "output_type": "stream",
     "text": [
      "[1, 1, 1, 1, 0, 0, 0, 1]\n"
     ]
    }
   ],
   "source": [
    "# We reinitialize the animations steps \n",
    "animation_steps = []\n",
    "animation_titles = []\n",
    "\n",
    "# Generates the circuit and fills the animation steps\n",
    "circuit = factorize(N, iterations, nx, ny)"
   ]
  },
  {
   "cell_type": "markdown",
   "id": "1e6a1758",
   "metadata": {},
   "source": [
    "We can now generate the animation:"
   ]
  },
  {
   "cell_type": "code",
   "execution_count": 14,
   "id": "7985e41c",
   "metadata": {},
   "outputs": [
    {
     "name": "stdout",
     "output_type": "stream",
     "text": [
      "Generating frames for step: 9/9\n",
      "Video saved in videos/grover_rsa_animation.mp4\n"
     ]
    },
    {
     "data": {
      "text/html": [
       "<video src=\"videos/grover_rsa_animation.mp4\" controls  >\n",
       "      Your browser does not support the <code>video</code> element.\n",
       "    </video>"
      ],
      "text/plain": [
       "<IPython.core.display.Video object>"
      ]
     },
     "execution_count": 14,
     "metadata": {},
     "output_type": "execute_result"
    }
   ],
   "source": [
    "# generate circuits and execute\n",
    "video_name = \"videos/grover_rsa_animation.mp4\"\n",
    "generate_animation(circuit, file_name=video_name, animation_steps=animation_steps, plot_titles=animation_titles, round_cut=2, yaxis_filter_func=bitstr_to_xy)\n",
    "# Detail: we've set round_cut = 2 to help the animation to group together bars of sligthly different values\n",
    "# since round_cut = 2 the animation was able to group together bars of values 0.01 and 0.09 (it only looks for two digits)\n",
    "\n",
    "Video(video_name)"
   ]
  },
  {
   "cell_type": "markdown",
   "id": "8f88f69a",
   "metadata": {},
   "source": [
    "If you already know the states you want to keep track of, it is also possible to focus on them in the animation:"
   ]
  },
  {
   "cell_type": "code",
   "execution_count": 15,
   "id": "a8c4dc9f",
   "metadata": {},
   "outputs": [
    {
     "name": "stdout",
     "output_type": "stream",
     "text": [
      "Generating frames for step: 9/9\n",
      "Video saved in videos/grover_rsa_targeted_state_animation.mp4\n"
     ]
    },
    {
     "data": {
      "text/html": [
       "<video src=\"videos/grover_rsa_targeted_state_animation.mp4\" controls  >\n",
       "      Your browser does not support the <code>video</code> element.\n",
       "    </video>"
      ],
      "text/plain": [
       "<IPython.core.display.Video object>"
      ]
     },
     "execution_count": 15,
     "metadata": {},
     "output_type": "execute_result"
    }
   ],
   "source": [
    "target1 = format(11, f'0{nx}b') + format(13, f'0{ny}b') + format(N, f'0{nx+ny+1}b')[::-1]\n",
    "target2 = format(13, f'0{nx}b') + format(11, f'0{ny}b') + format(N, f'0{nx+ny+1}b')[::-1]\n",
    "targets = [target1, target2]\n",
    "\n",
    "video_name = \"videos/grover_rsa_targeted_state_animation.mp4\"\n",
    "generate_animation(circuit, fps=24, file_name=video_name, animation_steps=animation_steps, plot_titles=animation_titles, target_states=targets, yaxis_filter_func=bitstr_to_xy)\n",
    "\n",
    "Video(video_name)"
   ]
  },
  {
   "cell_type": "code",
   "execution_count": 16,
   "id": "460ef7a2",
   "metadata": {},
   "outputs": [
    {
     "name": "stdout",
     "output_type": "stream",
     "text": [
      "Help on function generate_animation in module quantanium.visualization.animation:\n",
      "\n",
      "generate_animation(circuit, fps=12, seconds_per_step=2, file_name='state_evolution.mp4', figsize=(15, 10), animation_steps=None, plot_titles=None, target_states=None, round_cut=5, yaxis_filter_func=<function default_filter at 0x703a91c3eca0>)\n",
      "    Generates a simulation showing the evolution of the probability of getting a specific result after applying each gate.\n",
      "        It is ill advised to generate a simulation of more than 10 qubits, if you decide to do it nonetheless please reduce the number of fps.\n",
      "\n",
      "    Args:\n",
      "        circuit (Circuit): The Circuit to simulate, each instruction will be applied one by one on the state.\n",
      "        fps (int, optional): The number of frame per second to generate, the higher the smoother the animation will be. Defaults to 12.\n",
      "        seconds_per_step (int, optional): Indicates how many seconds it will take for the animation to show the evolution of applying one instruction on the state. Defaults to 2.\n",
      "        file_name (str, optional): The name of the resulting file. Defaults to \"state_evolution.mp4\".\n",
      "        figsize (tuple, optional): The size of the plots to generates, It is directly used by matplotlib. Defaults to (15, 10).\n",
      "        animation_steps (list[int] | None, optional): You may want to show the evolution of the probabilities for some part of your circuit, this option allows you to do exactly that.\n",
      "                                                      By giving a list of indeces the animation will only create the transistion between the instructions matching the indeces. Default None.\n",
      "        plot_titles (list[str] | None, optional): A list of titles to show on top during the animation.\n",
      "                                                  The list length must match the number of instructions in the circuit or the length of animation_steps if you are using it. Default None.\n",
      "        target_state (list[str] | None, optinal): A list of bitstrings representing the states to plot in the animation,every other state will be accumulated in one \"other states\" bar. Default None.\n",
      "        round_cut (int, optional): Indicates the number of digits to keep after the decimal. it will also be used to decides what bars to group together, for example bars 0.014 and 0.015 will be group together with round_cut=2. Default 5.\n",
      "        yaxis_filter_func (func(str), optional): You can give a function taking and returning a string to modify the appearance of the y axis value, the arguments passed to the function will be strings of bits example: \"0010\"\n",
      "\n",
      "\n",
      "    Returns:\n",
      "        FuncAnimation: The animation object Generated by matplotlib. The animation is also saved in the a file.\n",
      "\n"
     ]
    }
   ],
   "source": [
    "# For more help on generate_animation:\n",
    "help(generate_animation)"
   ]
  }
 ],
 "metadata": {
  "kernelspec": {
   "display_name": "test_env",
   "language": "python",
   "name": "python3"
  },
  "language_info": {
   "codemirror_mode": {
    "name": "ipython",
    "version": 3
   },
   "file_extension": ".py",
   "mimetype": "text/x-python",
   "name": "python",
   "nbconvert_exporter": "python",
   "pygments_lexer": "ipython3",
   "version": "3.12.8"
  }
 },
 "nbformat": 4,
 "nbformat_minor": 5
}
